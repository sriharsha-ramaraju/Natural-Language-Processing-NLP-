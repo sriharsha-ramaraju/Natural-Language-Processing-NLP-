{
 "cells": [
  {
   "cell_type": "code",
   "execution_count": 1,
   "metadata": {},
   "outputs": [],
   "source": [
    "import pandas as pd\n",
    "bbc=pd.read_csv('bbc_news_mixed.csv')"
   ]
  },
  {
   "cell_type": "code",
   "execution_count": 2,
   "metadata": {},
   "outputs": [
    {
     "data": {
      "text/plain": [
       "sport            511\n",
       "business         510\n",
       "politics         417\n",
       "tech             401\n",
       "entertainment    386\n",
       "Name: label, dtype: int64"
      ]
     },
     "execution_count": 2,
     "metadata": {},
     "output_type": "execute_result"
    }
   ],
   "source": [
    "bbc.head()\n",
    "bbc['label'].value_counts()"
   ]
  },
  {
   "cell_type": "markdown",
   "metadata": {},
   "source": [
    "gensim is a NLP library in python similar to SpaCy. \n",
    "-simple_preprocess() that performs basic preprocessing such as lower casing the text, tokenizing and ignoring tokens that are too small(lenght of 2) or too big(length of 15) in the corpus."
   ]
  },
  {
   "cell_type": "code",
   "execution_count": 3,
   "metadata": {},
   "outputs": [
    {
     "name": "stdout",
     "output_type": "stream",
     "text": [
      "['cairn', 'shares', 'slump', 'on', 'oil', 'setback', 'shares', 'in', 'cairn', 'energy', 'uk', 'oil', 'firm', 'have', 'closed', 'down', 'after', 'disappointing', 'drilling', 'update', 'and', 'warning', 'over', 'possible', 'tax', 'demands', 'the', 'company', 'said', 'tests', 'had', 'shown', 'no', 'significant', 'finds', 'in', 'one', 'of', 'its', 'indian', 'oil', 'fields', 'but', 'was', 'upbeat', 'about', 'the', 'potential', 'of', 'other', 'areas', 'it', 'also', 'said', 'the', 'indian', 'government', 'had', 'told', 'it', 'to', 'pay', 'production', 'tax', 'for', 'which', 'cairn', 'argues', 'it', 'is', 'not', 'liable', 'cairn', 'shares', 'have', 'jumped', 'by', 'almost', 'this', 'year', 'investors', 'had', 'piled', 'into', 'cairn', 'after', 'the', 'company', 'announced', 'significant', 'oil', 'finds', 'in', 'india', 'this', 'year', 'chief', 'executive', 'bill', 'gammell', 'said', 'on', 'friday', 'he', 'was', 'disappointed', 'with', 'exploration', 'in', 'the', 'so', 'called', 'extension', 'area', 'in', 'rajasthan', 'investors', 'had', 'held', 'high', 'hopes', 'of', 'major', 'oil', 'finds', 'in', 'this', 'area', 'but', 'cairn', 'said', 'estimates', 'had', 'been', 'revised', 'in', 'what', 'was', 'significant', 'downgrade', 'of', 'the', 'initial', 'expectation', 'cairn', 'also', 'said', 'that', 'the', 'government', 'believed', 'the', 'company', 'was', 'liable', 'to', 'pay', 'taxes', 'under', 'its', 'production', 'sharing', 'contract', 'the', 'company', 'said', 'the', 'rate', 'would', 'be', 'about', 'rupees', 'per', 'tonne', 'or', 'seven', 'barrels', 'of', 'oil', 'spokesman', 'for', 'the', 'firm', 'said', 'that', 'the', 'tax', 'would', 'wipe', 'of', 'the', 'field', 'current', 'value', 'cairn', 'refutes', 'the', 'government', 'position', 'mr', 'gammell', 'said', 'he', 'insisted', 'that', 'the', 'contract', 'made', 'it', 'clear', 'that', 'the', 'tax', 'should', 'be', 'shouldered', 'by', 'the', 'licensee', 'india', 'state', 'run', 'oil', 'natural', 'gas', 'corp', 'ongc', 'and', 'not', 'the', 'contractor', 'we', 'have', 'pretty', 'strong', 'legal', 'case', 'here', 'he', 'added', 'saying', 'it', 'would', 'only', 'become', 'an', 'issue', 'once', 'the', 'firm', 'started', 'production', 'investors', 'took', 'dim', 'view', 'of', 'the', 'statements', 'though', 'the', 'shares', 'closed', 'down', 'or', 'at', 'pence', 'think', 'people', 'were', 'slightly', 'over', 'ambitious', 'for', 'how', 'quickly', 'cairn', 'would', 'be', 'able', 'to', 'develop', 'and', 'potentially', 'offload', 'these', 'reserves', 'said', 'analyst', 'jason', 'kenney', 'at', 'ing', 'the', 'disappointments', 'overshadowed', 'increased', 'production', 'targets', 'for', 'cairn', 'existing', 'oilfields', 'the', 'company', 'raised', 'targets', 'for', 'its', 'mangala', 'and', 'aishwariya', 'fields', 'in', 'india', 'from', 'barrels', 'day', 'to', 'between', 'and', 'barrels', 'day', 'its', 'mangala', 'field', 'thought', 'to', 'contain', 'billion', 'barrels', 'is', 'its', 'biggest', 'find', 'to', 'date', 'these', 'two', 'fields', 'will', 'provide', 'the', 'core', 'of', 'the', 'future', 'developments', 'in', 'rajasthan', 'mr', 'gammell', 'said', 'cairn', 'added', 'that', 'it', 'would', 'be', 'appraising', 'another', 'field', 'early', 'next', 'year', 'mr', 'gammell', 'set', 'up', 'the', 'company', 'in', 'the', 'and', 'has', 'successfully', 'switched', 'its', 'focus', 'to', 'south', 'asia', 'from', 'interests', 'in', 'the', 'us', 'and', 'europe', 'cairn', 'which', 'also', 'operates', 'in', 'nepal', 'and', 'bangladesh', 'was', 'catapulted', 'into', 'the', 'ftse', 'index', 'of', 'leading', 'uk', 'shares', 'earlier', 'this', 'year', 'after', 'the', 'sharp', 'rise', 'in', 'its', 'share', 'price']\n"
     ]
    }
   ],
   "source": [
    "from gensim.utils import simple_preprocess\n",
    "\n",
    "print(simple_preprocess(bbc.text[0]))"
   ]
  },
  {
   "cell_type": "markdown",
   "metadata": {},
   "source": [
    "in the above example, article has been tokenised, converted to lower case and words less than 2 alphabets are removed\n",
    "let us do the same step across all the text"
   ]
  },
  {
   "cell_type": "code",
   "execution_count": 61,
   "metadata": {},
   "outputs": [
    {
     "data": {
      "text/plain": [
       "str"
      ]
     },
     "execution_count": 61,
     "metadata": {},
     "output_type": "execute_result"
    }
   ],
   "source": [
    "clean_bbc=bbc.text.apply(lambda x: simple_preprocess(x))\n",
    "#just to make sure preprocess has hapenned \n",
    "clean_bbc[1][:10]\n",
    "\n",
    "type(clean_bbc[1][1])"
   ]
  },
  {
   "cell_type": "markdown",
   "metadata": {},
   "source": [
    " some important parameters of gensim model are :\n",
    "\n",
    "size: (default 100) The number of dimensions of the embedding, e.g. the length of the dense vector to represent each token (word).\n",
    "window: (default 5) The maximum distance between a target word and words around the target word.\n",
    "min_count: (default 5) The minimum count of words to consider when training the model; words with an occurrence less than this count will be ignored.\n",
    "sg: (default 0 or CBOW) The training algorithm, either CBOW (0) or skip gram (1).\n",
    "\n",
    "let's use an embedding of size 300 and and train a skip gram (given a center word, the model should be able to predict words that fall in the context of the center word)\n"
   ]
  },
  {
   "cell_type": "code",
   "execution_count": 7,
   "metadata": {},
   "outputs": [],
   "source": [
    "from gensim.models import Word2Vec\n",
    "\n",
    "w2v=Word2Vec(clean_bbc,size=300,min_count=2,sg=1)#building word2vec model"
   ]
  },
  {
   "cell_type": "code",
   "execution_count": 11,
   "metadata": {},
   "outputs": [
    {
     "name": "stdout",
     "output_type": "stream",
     "text": [
      "no of words used: 18588\n"
     ]
    }
   ],
   "source": [
    "print('no of words used:', len(w2v.wv.vocab))"
   ]
  },
  {
   "cell_type": "markdown",
   "metadata": {},
   "source": [
    "now that we have built the model, let's get the vectors for few words.."
   ]
  },
  {
   "cell_type": "code",
   "execution_count": 14,
   "metadata": {},
   "outputs": [
    {
     "name": "stdout",
     "output_type": "stream",
     "text": [
      "dimm for word \"update\" is: (300,)\n"
     ]
    },
    {
     "data": {
      "text/plain": [
       "array([-0.09191075,  0.11478841, -0.00951998, -0.17003517, -0.06011067,\n",
       "       -0.00841509,  0.02809904,  0.00269008, -0.1561561 ,  0.09464687,\n",
       "       -0.06998491,  0.19341357, -0.01393681, -0.05629824, -0.13081127,\n",
       "        0.18748857, -0.05176939, -0.00105787,  0.22641309, -0.06256293,\n",
       "       -0.01349553,  0.04009144,  0.02628575,  0.27639797, -0.12545824,\n",
       "       -0.04274383,  0.04077545,  0.00229664,  0.08780013,  0.04719721,\n",
       "       -0.18349671, -0.10157923, -0.12291513,  0.12797114,  0.06407789,\n",
       "       -0.11630086,  0.1457036 , -0.08373711, -0.07120527, -0.02620047,\n",
       "        0.19982016, -0.07139057, -0.11560734,  0.03378392, -0.01462515,\n",
       "        0.04435378, -0.08941176, -0.03901974, -0.03287286, -0.22616947,\n",
       "        0.0154144 ,  0.1323367 , -0.05855173,  0.14599727, -0.10003614,\n",
       "       -0.02162195, -0.1951531 , -0.15676044, -0.09894346, -0.04703739,\n",
       "        0.0084629 ,  0.14588384,  0.10091967, -0.02322787,  0.07501419,\n",
       "       -0.10300254,  0.23707117,  0.04100895,  0.01901884, -0.08349038,\n",
       "       -0.02254366, -0.04078626, -0.02536747, -0.0833725 , -0.00146513,\n",
       "       -0.11232177,  0.08576658, -0.06299721, -0.12391312,  0.05652666,\n",
       "        0.2319005 , -0.08810522, -0.19734101, -0.05297961, -0.13620666,\n",
       "       -0.15919626,  0.08020625, -0.00131077, -0.01667457, -0.04548407,\n",
       "       -0.10258579, -0.03349065,  0.02331525, -0.02255423, -0.09742664,\n",
       "       -0.05807462,  0.04597233, -0.09176201, -0.06366421, -0.15649137,\n",
       "       -0.13936996,  0.06047599, -0.0221265 , -0.04635424,  0.11986081,\n",
       "       -0.14075576,  0.07559045,  0.0508473 , -0.01953518,  0.0043927 ,\n",
       "       -0.14026332,  0.15126288, -0.00840298,  0.18076494, -0.10199336,\n",
       "       -0.05873087, -0.08317184, -0.03725901, -0.09064022, -0.10569232,\n",
       "        0.11373914, -0.02373868, -0.10786678, -0.08012182,  0.00400599,\n",
       "       -0.14667882, -0.18969251,  0.13455775, -0.05383629, -0.13723674,\n",
       "       -0.13230231,  0.00498726,  0.03822707,  0.16133307,  0.09901595,\n",
       "       -0.0934865 , -0.10680648, -0.07948274, -0.08005786, -0.05305437,\n",
       "        0.10164984, -0.17873022,  0.05533617,  0.00580255,  0.10853808,\n",
       "       -0.06789511, -0.11285132,  0.03022325,  0.10544394, -0.04289247,\n",
       "        0.15227689,  0.04957999, -0.10233955,  0.05451332,  0.03912001,\n",
       "        0.08167685,  0.03110385, -0.14506826,  0.16948426, -0.05254026,\n",
       "       -0.00720685,  0.1636722 ,  0.264534  ,  0.01496647, -0.0210916 ,\n",
       "        0.07243626,  0.09092939,  0.07449859,  0.13180096,  0.09186167,\n",
       "       -0.10021126, -0.04380429,  0.05533478, -0.01524735, -0.10046841,\n",
       "       -0.18411276,  0.06388177, -0.0926628 , -0.0615202 , -0.00887416,\n",
       "        0.06512646,  0.06763631,  0.06528992, -0.04848342, -0.11567556,\n",
       "        0.12104341,  0.143959  , -0.10826194,  0.09826861, -0.12560079,\n",
       "        0.12637815,  0.08029297, -0.01107829, -0.01656609,  0.0361823 ,\n",
       "       -0.04447527,  0.036431  ,  0.03268396, -0.2090097 , -0.10986493,\n",
       "       -0.1361048 , -0.04319035,  0.07816321, -0.13552967, -0.01238776,\n",
       "       -0.04277069,  0.0691693 ,  0.18345371,  0.03549572, -0.07056995,\n",
       "        0.07170358, -0.12281416, -0.00087443, -0.02657283,  0.09523322,\n",
       "       -0.01605407, -0.13812484,  0.11533214,  0.14478374, -0.12377573,\n",
       "       -0.21493247, -0.04166798, -0.11085188,  0.05208533, -0.15574047,\n",
       "       -0.1745109 , -0.02250668,  0.02861089,  0.08463208,  0.16167846,\n",
       "        0.02761361, -0.16750756, -0.08183575,  0.0190657 ,  0.07157487,\n",
       "        0.05421888, -0.18627872, -0.05042339, -0.07154966, -0.17440939,\n",
       "       -0.06647913,  0.0393198 , -0.00861373,  0.22472648, -0.16630055,\n",
       "       -0.30283695,  0.0137637 , -0.06693023,  0.08377255, -0.04336683,\n",
       "        0.14968392, -0.00758157,  0.12188573,  0.21804781,  0.09078874,\n",
       "        0.06260856, -0.10156877, -0.10993318, -0.03242079, -0.04620947,\n",
       "        0.07153875,  0.0633527 , -0.13180837, -0.15627016,  0.09330263,\n",
       "       -0.02665769, -0.08679111,  0.16892801,  0.02330999, -0.06862141,\n",
       "       -0.06481912, -0.14971244,  0.06605171, -0.1389974 ,  0.1584735 ,\n",
       "        0.00414697, -0.15464933, -0.07441462,  0.02380273,  0.3082877 ,\n",
       "        0.16155933, -0.1613988 , -0.0891199 ,  0.18534093, -0.06427769,\n",
       "       -0.16293526, -0.14504519, -0.05864784, -0.07411787,  0.12194862,\n",
       "       -0.05398555,  0.0396019 , -0.01496549, -0.128006  , -0.08497334,\n",
       "        0.03110247, -0.07838795,  0.06263292, -0.10687066,  0.01287448],\n",
       "      dtype=float32)"
      ]
     },
     "execution_count": 14,
     "metadata": {},
     "output_type": "execute_result"
    }
   ],
   "source": [
    "#any word will have 300 dimmensions as we mentioned in our model building\n",
    "print('dimm for word \"update\" is:', w2v.wv.get_vector('update').shape)\n",
    "w2v.wv.get_vector('update')"
   ]
  },
  {
   "cell_type": "markdown",
   "metadata": {},
   "source": [
    "let us also get most similar words for any center word"
   ]
  },
  {
   "cell_type": "code",
   "execution_count": 17,
   "metadata": {},
   "outputs": [
    {
     "name": "stdout",
     "output_type": "stream",
     "text": [
      "similar words for \"update\" found in bbc texts: [('gas', 0.8877936601638794), ('giant', 0.8277593851089478), ('telecoms', 0.8184065222740173), ('energy', 0.8081611394882202), ('steel', 0.7985278367996216), ('fuel', 0.7919976711273193), ('unit', 0.7848036289215088), ('china', 0.7845038175582886), ('costs', 0.7840332984924316), ('copper', 0.7706196904182434)]\n"
     ]
    }
   ],
   "source": [
    "print('similar words for \"update\" found in bbc texts:', w2v.wv.most_similar('oil'))"
   ]
  },
  {
   "cell_type": "code",
   "execution_count": 18,
   "metadata": {},
   "outputs": [
    {
     "data": {
      "text/plain": [
       "[('infrastructure', 0.9201074838638306),\n",
       " ('resources', 0.9200001955032349),\n",
       " ('supplies', 0.9073126316070557),\n",
       " ('raising', 0.8991946578025818),\n",
       " ('reducing', 0.8980662822723389),\n",
       " ('invest', 0.8960729837417603),\n",
       " ('strategic', 0.8956148624420166),\n",
       " ('initiatives', 0.8949234485626221),\n",
       " ('export', 0.8929666876792908),\n",
       " ('agricultural', 0.8913655877113342)]"
      ]
     },
     "execution_count": 18,
     "metadata": {},
     "output_type": "execute_result"
    }
   ],
   "source": [
    "w2v.wv.most_similar('poverty')"
   ]
  },
  {
   "cell_type": "markdown",
   "metadata": {},
   "source": [
    "This model is performing fairly okay, given it got trained only on 2225 documents and 18588 words. Googles word2vec \n",
    "gets trained on very big corposes. This is the reason why google's word2vec might give good result.\n",
    "If google has word2vec why should be build our word2vec from the scratch??? because..we might be having corpus which contains\n",
    "lot of medical data and google might not be having it..so when we use google word2vec we will be having bad accuracy"
   ]
  },
  {
   "cell_type": "markdown",
   "metadata": {},
   "source": [
    "now that we have built the model and got the similarities working, let's check out how actually they work..\n",
    "let's visualise them by projecting the words onto model.."
   ]
  },
  {
   "cell_type": "code",
   "execution_count": 20,
   "metadata": {},
   "outputs": [
    {
     "data": {
      "text/plain": [
       "[('gas', 0.8877936601638794),\n",
       " ('giant', 0.8277593851089478),\n",
       " ('telecoms', 0.8184065222740173),\n",
       " ('energy', 0.8081611394882202),\n",
       " ('steel', 0.7985278367996216),\n",
       " ('fuel', 0.7919976711273193),\n",
       " ('unit', 0.7848036289215088),\n",
       " ('china', 0.7845038175582886),\n",
       " ('costs', 0.7840332984924316),\n",
       " ('copper', 0.7706196904182434),\n",
       " ('digital', 0.7969462871551514),\n",
       " ('video', 0.7845475673675537),\n",
       " ('recorders', 0.7711256742477417),\n",
       " ('portable', 0.7605506181716919),\n",
       " ('gaming', 0.7563401460647583),\n",
       " ('recorder', 0.7457741498947144),\n",
       " ('movies', 0.7356342077255249),\n",
       " ('tv', 0.7354165315628052),\n",
       " ('audio', 0.7251417636871338),\n",
       " ('screen', 0.7227457761764526),\n",
       " ('rugby', 0.8582456111907959),\n",
       " ('influential', 0.817884624004364),\n",
       " ('scottish', 0.8169686198234558),\n",
       " ('premier', 0.8124054670333862),\n",
       " ('lions', 0.801287055015564),\n",
       " ('spirit', 0.8007616400718689),\n",
       " ('irb', 0.7964897751808167),\n",
       " ('pro', 0.7920151352882385),\n",
       " ('presented', 0.7875747680664062),\n",
       " ('prominent', 0.7875392436981201)]"
      ]
     },
     "execution_count": 20,
     "metadata": {},
     "output_type": "execute_result"
    }
   ],
   "source": [
    "samp_words=w2v.wv.most_similar('oil')+w2v.wv.most_similar('music')+w2v.wv.most_similar('football')\n",
    "samp_words"
   ]
  },
  {
   "cell_type": "code",
   "execution_count": 23,
   "metadata": {},
   "outputs": [
    {
     "data": {
      "text/plain": [
       "['gas',\n",
       " 'giant',\n",
       " 'telecoms',\n",
       " 'energy',\n",
       " 'steel',\n",
       " 'fuel',\n",
       " 'unit',\n",
       " 'china',\n",
       " 'costs',\n",
       " 'copper',\n",
       " 'digital',\n",
       " 'video',\n",
       " 'recorders',\n",
       " 'portable',\n",
       " 'gaming',\n",
       " 'recorder',\n",
       " 'movies',\n",
       " 'tv',\n",
       " 'audio',\n",
       " 'screen',\n",
       " 'rugby',\n",
       " 'influential',\n",
       " 'scottish',\n",
       " 'premier',\n",
       " 'lions',\n",
       " 'spirit',\n",
       " 'irb',\n",
       " 'pro',\n",
       " 'presented',\n",
       " 'prominent']"
      ]
     },
     "execution_count": 23,
     "metadata": {},
     "output_type": "execute_result"
    }
   ],
   "source": [
    "words=list(map(lambda x: x[0],samp_words)) #from samp words, extracting only similar words and not their score\n",
    "words"
   ]
  },
  {
   "cell_type": "code",
   "execution_count": 34,
   "metadata": {},
   "outputs": [],
   "source": [
    "#using PCA to bring down the dimmensions\n",
    "import matplotlib.pyplot as plt\n",
    "from sklearn.decomposition import PCA\n",
    "\n",
    "def w2vec(word_list):\n",
    "    proj=w2v[word_list]\n",
    "    pca=PCA(n_components=2)\n",
    "    res=pca.fit_transform(proj)\n",
    "    plt.scatter(res[:,0],res[:,1])\n",
    "    for i,word in enumerate(word_list):\n",
    "        plt.annotate(word,xy=(res[i,0],res[i,1]))\n",
    "    plt.figure(figsize=(15,15))\n",
    "    plt.show()\n",
    "    \n",
    "    "
   ]
  },
  {
   "cell_type": "code",
   "execution_count": 35,
   "metadata": {},
   "outputs": [
    {
     "name": "stderr",
     "output_type": "stream",
     "text": [
      "C:\\Users\\nsr156\\AppData\\Local\\Continuum\\anaconda3\\lib\\site-packages\\ipykernel_launcher.py:6: DeprecationWarning: Call to deprecated `__getitem__` (Method will be removed in 4.0.0, use self.wv.__getitem__() instead).\n",
      "  \n"
     ]
    },
    {
     "data": {
      "image/png": "[encoded data removed]",
      "text/plain": [
       "<Figure size 432x288 with 1 Axes>"
      ]
     },
     "metadata": {
      "needs_background": "light"
     },
     "output_type": "display_data"
    },
    {
     "data": {
      "text/plain": [
       "<Figure size 1080x1080 with 0 Axes>"
      ]
     },
     "metadata": {},
     "output_type": "display_data"
    }
   ],
   "source": [
    "w2vec(words)"
   ]
  },
  {
   "cell_type": "markdown",
   "metadata": {},
   "source": [
    "we used three different words from 3 families..oil,music and foot ball..and you can see 3 clusters...\n",
    "we have achived this just using 2225 documents and 18588 words..\n",
    "let's download and use google's word2vec which has 3million words each word has 300 dimmensions..\n",
    "\n",
    "    "
   ]
  },
  {
   "cell_type": "code",
   "execution_count": 43,
   "metadata": {},
   "outputs": [],
   "source": [
    "#unzip and install the googles model\n",
    "# !gzip -d GoogleNews-vectors-negative300.bin \n",
    "\n",
    "from gensim.models import KeyedVectors\n",
    "w2vec_goo = KeyedVectors.load_word2vec_format('GoogleNews-vectors-negative300.bin', binary=True)"
   ]
  },
  {
   "cell_type": "markdown",
   "metadata": {},
   "source": [
    "One of the impressive things about word2vec is it's ability to capture semantic relationship between words.\n",
    "That is the reason that you can do cool stuff like perform linear algebra on words and get an appropriate output. \n",
    "Have a look at the following example:\n",
    "\n",
    "airplane - fly + drive = car\n",
    "\n",
    "If you pass the left hand side of the above equation to the model, it will give the right handside. \n",
    "Which makes sense because what would you get if you remove the ability to fly from an airplane? \n",
    "And add the ability to drive? You would get a car!"
   ]
  },
  {
   "cell_type": "code",
   "execution_count": 45,
   "metadata": {},
   "outputs": [
    {
     "data": {
      "text/plain": [
       "[('car', 0.511200487613678),\n",
       " ('drives', 0.47777241468429565),\n",
       " ('automobile', 0.45616623759269714),\n",
       " ('vehicle', 0.44856154918670654),\n",
       " ('SUV', 0.44360122084617615)]"
      ]
     },
     "execution_count": 45,
     "metadata": {},
     "output_type": "execute_result"
    }
   ],
   "source": [
    "w2vec_goo.most_similar(positive=['airplane','drive'],negative=['fly'],topn=5)\n",
    "w2vec.most_similar(positive=['king', 'woman'], negative=['man'], topn=5)"
   ]
  },
  {
   "cell_type": "markdown",
   "metadata": {},
   "source": [
    "classification using google's word2vec and our word2vec \n",
    "word2vec gives vector representation of words..if vector representation for a document or sentence needs to be calulated\n",
    "then the vectors of each word that is present in sentence/document needs to be averaged\n",
    "\n"
   ]
  },
  {
   "cell_type": "code",
   "execution_count": 72,
   "metadata": {},
   "outputs": [],
   "source": [
    "import numpy as np\n",
    "def get_embeddings(doc_tokens,pre_trained): #takes tokens and pre_trained (boolean scalar) as inputs\n",
    "    if pre_trained:\n",
    "        model=w2v #our model\n",
    "    else:\n",
    "        model=w2vec_goo #google's model\n",
    "    embeddings=[]\n",
    "    for tok in doc_tokens:\n",
    "        if tok in model.wv.vocab:\n",
    "            embeddings.append(model.wv.word_vec(tok))\n",
    "#     embedd=[model.wv.word_vec(tok) for tok in doc_tokens if (model.wv.vocab)]#appending word2vec of all the tokens present in doc\n",
    "    return np.mean(embeddings,axis=0) #mean for all rows (observastions)\n",
    "            "
   ]
  },
  {
   "cell_type": "code",
   "execution_count": 83,
   "metadata": {},
   "outputs": [
    {
     "name": "stdout",
     "output_type": "stream",
     "text": [
      "X shape: (2225, 300)\n"
     ]
    },
    {
     "data": {
      "text/plain": [
       "0.8764044943820225"
      ]
     },
     "execution_count": 83,
     "metadata": {},
     "output_type": "execute_result"
    }
   ],
   "source": [
    "#sending pre-processed bbc dataset to get_embeddings function\n",
    "from sklearn.model_selection import train_test_split\n",
    "from sklearn.preprocessing import LabelEncoder\n",
    "\n",
    "x_own=clean_bbc.apply(lambda x: get_embeddings(x,1))#0-using our own model\n",
    "\n",
    "x_own = pd.DataFrame(x_own.tolist())\n",
    "print('X shape:', x_own.shape)\n",
    "labenc=LabelEncoder()\n",
    "y=labenc.fit_transform(bbc.label)\n",
    "x_train_own,x_test_own,y_train_own,y_test_own=train_test_split(x_own,y,test_size=0.2,random_state=100)\n",
    "#building and testing model\n",
    "from sklearn.naive_bayes import GaussianNB\n",
    "from sklearn.metrics import accuracy_score\n",
    "\n",
    "nb=GaussianNB()\n",
    "model_nb_own=nb.fit(x_train_own,y_train_own)\n",
    "pred_own=model_nb_own.predict(x_test_own)\n",
    "accuracy_score(y_test_own,pred_own)"
   ]
  },
  {
   "cell_type": "code",
   "execution_count": 84,
   "metadata": {},
   "outputs": [
    {
     "name": "stderr",
     "output_type": "stream",
     "text": [
      "C:\\Users\\nsr156\\AppData\\Local\\Continuum\\anaconda3\\lib\\site-packages\\ipykernel_launcher.py:9: DeprecationWarning: Call to deprecated `wv` (Attribute will be removed in 4.0.0, use self instead).\n",
      "  if __name__ == '__main__':\n",
      "C:\\Users\\nsr156\\AppData\\Local\\Continuum\\anaconda3\\lib\\site-packages\\ipykernel_launcher.py:10: DeprecationWarning: Call to deprecated `wv` (Attribute will be removed in 4.0.0, use self instead).\n",
      "  # Remove the CWD from sys.path while we load stuff.\n"
     ]
    },
    {
     "name": "stdout",
     "output_type": "stream",
     "text": [
      "X shape: (2225, 300)\n"
     ]
    },
    {
     "data": {
      "text/plain": [
       "0.9325842696629213"
      ]
     },
     "execution_count": 84,
     "metadata": {},
     "output_type": "execute_result"
    }
   ],
   "source": [
    "x_goo=clean_bbc.apply(lambda x: get_embeddings(x,0))#0-using google model\n",
    "\n",
    "x_goo = pd.DataFrame(x_goo.tolist())\n",
    "print('X shape:',x_goo.shape)\n",
    "labenc=LabelEncoder()\n",
    "y=labenc.fit_transform(bbc.label)\n",
    "x_train_goo,x_test_goo,y_train_goo,y_test_goo=train_test_split(x_goo,y,test_size=0.2,random_state=100)\n",
    "#building and testing model\n",
    "from sklearn.naive_bayes import GaussianNB\n",
    "from sklearn.metrics import accuracy_score\n",
    "\n",
    "nb=GaussianNB()\n",
    "model_nb_goo=nb.fit(x_train_goo,y_train_goo)\n",
    "pred_goo=model_nb_goo.predict(x_test_goo)\n",
    "accuracy_score(y_test_goo,pred_goo)"
   ]
  },
  {
   "cell_type": "markdown",
   "metadata": {},
   "source": [
    "This is amazing, when TF-IDF was applied on the same dataset, it required 1500 features to get an accuracy of 95%\n",
    "where as using word2vec we are able to achieve nearly same accuracy (93%) with one-fifth of the features\n",
    "\n",
    "with our own word to vec model we achieved an accuracy of 89.98% just training 18000 words...The more rich the vocabulary is, the better the model generates the semantic vectors of a word."
   ]
  }
 ],
 "metadata": {
  "kernelspec": {
   "display_name": "Python 3",
   "language": "python",
   "name": "python3"
  },
  "language_info": {
   "codemirror_mode": {
    "name": "ipython",
    "version": 3
   },
   "file_extension": ".py",
   "mimetype": "text/x-python",
   "name": "python",
   "nbconvert_exporter": "python",
   "pygments_lexer": "ipython3",
   "version": "3.7.3"
  }
 },
 "nbformat": 4,
 "nbformat_minor": 2
}
