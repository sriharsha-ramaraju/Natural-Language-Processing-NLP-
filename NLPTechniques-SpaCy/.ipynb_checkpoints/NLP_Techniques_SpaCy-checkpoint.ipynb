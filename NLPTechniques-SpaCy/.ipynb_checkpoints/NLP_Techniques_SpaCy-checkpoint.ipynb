{
 "cells": [
  {
   "cell_type": "code",
   "execution_count": null,
   "metadata": {},
   "outputs": [],
   "source": [
    "#this is a walk through of NLP techniques using advanced SpaCy library\n",
    "#unique features of SpaCy are -good integration with deep learning -parts of speech tagging -Labelled dependency parsing\n",
    "# -Pre-trained word vectors -Named entity recognition and many ore\n",
    "# pip install spacy\n",
    "# python -m spacy download en_core_web_sm  #downloads pre-built spacy models\n",
    "# run above two commands in python shell or Anaconda prompt"
   ]
  },
  {
   "cell_type": "code",
   "execution_count": 2,
   "metadata": {},
   "outputs": [],
   "source": [
    "import spacy\n"
   ]
  },
  {
   "cell_type": "code",
   "execution_count": 3,
   "metadata": {
    "scrolled": true
   },
   "outputs": [],
   "source": [
    "nlp=spacy.load('en_core_web_sm')"
   ]
  },
  {
   "cell_type": "code",
   "execution_count": 4,
   "metadata": {},
   "outputs": [],
   "source": [
    "# below is a sample text\n",
    "\n",
    "doc = \"\"\"Alice follows a large white rabbit down a \"Rabbit-hole\". She finds a tiny door. When she finds a bottle labeled \"Drink me\", she does, and shrinks, but not enough to pass through the door. She then eats something labeled \"Eat me\" and grows larger. She finds a fan when enables her to shrink enough to get into the \"Garden\" and try to get a \"Dog\" to play with her. She enters the \"White Rabbit's tiny House,\" but suddenly resumes her normal size. In order to get out, she has to use the \"magic fan.\"\n",
    "She enters a kitchen, in which there is a cook and a woman holding a baby. She persuades the woman to give her the child and takes the infant outside after the cook starts throwing things around. The baby then turns into a pig and squirms out of her grip. \"The Duchess's Cheshire Cat\" appears and disappears a couple of times to Alice and directs her to the Mad Hatter's \"Mad Tea-Party.\" After a while, she leaves.\n",
    "The Queen invites Alice to join the \"ROYAL PROCESSION\": a parade of marching playing cards and others headed by the White Rabbit. When Alice \"unintentionally offends the Queen\", the latter summons the \"Executioner\". Alice \"boxes the ears\", then flees when all the playing cards come for her. Then she wakes up and realizes it was all a dream.\"\"\""
   ]
  },
  {
   "cell_type": "code",
   "execution_count": 5,
   "metadata": {},
   "outputs": [
    {
     "data": {
      "text/plain": [
       "Alice follows a large white rabbit down a \"Rabbit-hole\". She finds a tiny door. When she finds a bottle labeled \"Drink me\", she does, and shrinks, but not enough to pass through the door. She then eats something labeled \"Eat me\" and grows larger. She finds a fan when enables her to shrink enough to get into the \"Garden\" and try to get a \"Dog\" to play with her. She enters the \"White Rabbit's tiny House,\" but suddenly resumes her normal size. In order to get out, she has to use the \"magic fan.\"\n",
       "She enters a kitchen, in which there is a cook and a woman holding a baby. She persuades the woman to give her the child and takes the infant outside after the cook starts throwing things around. The baby then turns into a pig and squirms out of her grip. \"The Duchess's Cheshire Cat\" appears and disappears a couple of times to Alice and directs her to the Mad Hatter's \"Mad Tea-Party.\" After a while, she leaves.\n",
       "The Queen invites Alice to join the \"ROYAL PROCESSION\": a parade of marching playing cards and others headed by the White Rabbit. When Alice \"unintentionally offends the Queen\", the latter summons the \"Executioner\". Alice \"boxes the ears\", then flees when all the playing cards come for her. Then she wakes up and realizes it was all a dream."
      ]
     },
     "execution_count": 5,
     "metadata": {},
     "output_type": "execute_result"
    }
   ],
   "source": [
    "#to perform nlp techniques on this piece of text, this should be converted to spacy document using object the object\n",
    "#created earlier (nlp)\n",
    "\n",
    "sp_doc=nlp(doc)\n",
    "sp_doc"
   ]
  },
  {
   "cell_type": "code",
   "execution_count": 6,
   "metadata": {},
   "outputs": [
    {
     "name": "stdout",
     "output_type": "stream",
     "text": [
      "[Alice, follows, a, large, white, rabbit, down, a, \", Rabbit, -, hole, \", ., She, finds, a, tiny, door, ., When, she, finds, a, bottle, labeled, \", Drink, me, \", ,, she, does, ,, and, shrinks, ,, but, not, enough, to, pass, through, the, door, ., She, then, eats, something, labeled, \", Eat, me, \", and, grows, larger, ., She, finds, a, fan, when, enables, her, to, shrink, enough, to, get, into, the, \", Garden, \", and, try, to, get, a, \", Dog, \", to, play, with, her, ., She, enters, the, \", White, Rabbit, 's, tiny, House, ,, \", but, suddenly, resumes, her, normal, size, ., In, order, to, get, out, ,, she, has, to, use, the, \", magic, fan, ., \", \n",
      ", She, enters, a, kitchen, ,, in, which, there, is, a, cook, and, a, woman, holding, a, baby, ., She, persuades, the, woman, to, give, her, the, child, and, takes, the, infant, outside, after, the, cook, starts, throwing, things, around, ., The, baby, then, turns, into, a, pig, and, squirms, out, of, her, grip, ., \", The, Duchess, 's, Cheshire, Cat, \", appears, and, disappears, a, couple, of, times, to, Alice, and, directs, her, to, the, Mad, Hatter, 's, \", Mad, Tea, -, Party, ., \", After, a, while, ,, she, leaves, ., \n",
      ", The, Queen, invites, Alice, to, join, the, \", ROYAL, PROCESSION, \", :, a, parade, of, marching, playing, cards, and, others, headed, by, the, White, Rabbit, ., When, Alice, \", unintentionally, offends, the, Queen, \", ,, the, latter, summons, the, \", Executioner, \", ., Alice, \", boxes, the, ears, \", ,, then, flees, when, all, the, playing, cards, come, for, her, ., Then, she, wakes, up, and, realizes, it, was, all, a, dream, .]\n"
     ]
    },
    {
     "data": {
      "text/plain": [
       "list"
      ]
     },
     "execution_count": 6,
     "metadata": {},
     "output_type": "execute_result"
    }
   ],
   "source": [
    "### tokenization\n",
    "sp_tokens=list(sp_doc)\n",
    "print(sp_tokens)\n",
    "#when you convert text to spacy document by default converts to token, we just needed to put all of token together using\n",
    "list\n"
   ]
  },
  {
   "cell_type": "code",
   "execution_count": 7,
   "metadata": {},
   "outputs": [
    {
     "data": {
      "text/plain": [
       "<generator at 0x146893095a0>"
      ]
     },
     "execution_count": 7,
     "metadata": {},
     "output_type": "execute_result"
    }
   ],
   "source": [
    "# we can get sentence tokenization as well\n",
    "sp_doc.sents"
   ]
  },
  {
   "cell_type": "code",
   "execution_count": 8,
   "metadata": {},
   "outputs": [
    {
     "name": "stdout",
     "output_type": "stream",
     "text": [
      "0 Alice follows a large white rabbit down a \"Rabbit-hole\".\n",
      "1 She finds a tiny door.\n",
      "2 When she finds a bottle labeled \"Drink me\", she does, and shrinks, but not enough to pass through the door.\n",
      "3 She then eats something labeled \"Eat me\" and grows larger.\n",
      "4 She finds a fan when enables her to shrink enough to get into the \"Garden\" and try to get a \"Dog\" to play with her.\n",
      "5 She enters the \"White Rabbit's tiny House,\" but suddenly resumes her normal size.\n",
      "6 In order to get out, she has to use the \"magic fan.\n",
      "7 \"\n",
      "\n",
      "8 She enters a kitchen, in which there is a cook and a woman holding a baby.\n",
      "9 She persuades the woman to give her the child and takes the infant outside after the cook starts throwing things around.\n",
      "10 The baby then turns into a pig and squirms out of her grip.\n",
      "11 \"\n",
      "12 The Duchess's Cheshire Cat\" appears and disappears a couple of times to Alice and directs her to the Mad Hatter's \"Mad Tea-Party.\n",
      "13 \"\n",
      "14 After a while, she leaves.\n",
      "\n",
      "15 The Queen invites Alice to join the \"ROYAL PROCESSION\": a parade of marching playing cards and others headed by the White Rabbit.\n",
      "16 When Alice \"unintentionally offends the Queen\", the latter summons the \"Executioner\".\n",
      "17 Alice \"boxes the ears\", then flees when all the playing cards come for her.\n",
      "18 Then she wakes up and realizes it was all a dream.\n"
     ]
    }
   ],
   "source": [
    "#need to use for loop to extract entities from generator object\n",
    "\n",
    "for index,sen in enumerate(sp_doc.sents):\n",
    "    print(index,sen)\n",
    "    "
   ]
  },
  {
   "cell_type": "code",
   "execution_count": 9,
   "metadata": {},
   "outputs": [
    {
     "data": {
      "text/plain": [
       "Alice"
      ]
     },
     "execution_count": 9,
     "metadata": {},
     "output_type": "execute_result"
    }
   ],
   "source": [
    "sp_tokens[0]"
   ]
  },
  {
   "cell_type": "code",
   "execution_count": 10,
   "metadata": {},
   "outputs": [
    {
     "name": "stdout",
     "output_type": "stream",
     "text": [
      "['_', '__bytes__', '__class__', '__delattr__', '__dir__', '__doc__', '__eq__', '__format__', '__ge__', '__getattribute__', '__gt__', '__hash__', '__init__', '__init_subclass__', '__le__', '__len__', '__lt__', '__ne__', '__new__', '__pyx_vtable__', '__reduce__', '__reduce_ex__', '__repr__', '__setattr__', '__sizeof__', '__str__', '__subclasshook__', '__unicode__', 'ancestors', 'check_flag', 'children', 'cluster', 'conjuncts', 'dep', 'dep_', 'doc', 'ent_id', 'ent_id_', 'ent_iob', 'ent_iob_', 'ent_kb_id', 'ent_kb_id_', 'ent_type', 'ent_type_', 'get_extension', 'has_extension', 'has_vector', 'head', 'i', 'idx', 'is_alpha', 'is_ancestor', 'is_ascii', 'is_bracket', 'is_currency', 'is_digit', 'is_left_punct', 'is_lower', 'is_oov', 'is_punct', 'is_quote', 'is_right_punct', 'is_sent_start', 'is_space', 'is_stop', 'is_title', 'is_upper', 'lang', 'lang_', 'left_edge', 'lefts', 'lemma', 'lemma_', 'lex_id', 'like_email', 'like_num', 'like_url', 'lower', 'lower_', 'n_lefts', 'n_rights', 'nbor', 'norm', 'norm_', 'orth', 'orth_', 'pos', 'pos_', 'prefix', 'prefix_', 'prob', 'rank', 'remove_extension', 'right_edge', 'rights', 'sent', 'sent_start', 'sentiment', 'set_extension', 'shape', 'shape_', 'similarity', 'string', 'subtree', 'suffix', 'suffix_', 'tag', 'tag_', 'tensor', 'text', 'text_with_ws', 'vector', 'vector_norm', 'vocab', 'whitespace_']\n"
     ]
    }
   ],
   "source": [
    "first_word = sp_tokens[0]\n",
    "\n",
    "first_word\n",
    "print(dir(first_word))#prints out the properties of token"
   ]
  },
  {
   "cell_type": "code",
   "execution_count": 11,
   "metadata": {},
   "outputs": [
    {
     "name": "stdout",
     "output_type": "stream",
     "text": [
      "True\n",
      "False\n",
      "PROPN\n",
      "False\n"
     ]
    }
   ],
   "source": [
    "#as we can see..there are many properties..lets print few of them out\n",
    "\n",
    "print(first_word.is_alpha)\n",
    "print(first_word.is_digit)\n",
    "print(first_word.pos_)\n",
    "print(first_word.like_num)"
   ]
  },
  {
   "cell_type": "code",
   "execution_count": 12,
   "metadata": {},
   "outputs": [
    {
     "name": "stdout",
     "output_type": "stream",
     "text": [
      "[Alice, follows, a, large, white, rabbit, down, a, Rabbit, hole, She, finds, a, tiny, door, When, she, finds, a, bottle, labeled, Drink, me, she, does, and, shrinks, but, not, enough, to, pass, through, the, door, She, then, eats, something, labeled, Eat, me, and, grows, larger, She, finds, a, fan, when, enables, her, to, shrink, enough, to, get, into, the, Garden, and, try, to, get, a, Dog, to, play, with, her, She, enters, the, White, Rabbit, 's, tiny, House, but, suddenly, resumes, her, normal, size, In, order, to, get, out, she, has, to, use, the, magic, fan, \n",
      ", She, enters, a, kitchen, in, which, there, is, a, cook, and, a, woman, holding, a, baby, She, persuades, the, woman, to, give, her, the, child, and, takes, the, infant, outside, after, the, cook, starts, throwing, things, around, The, baby, then, turns, into, a, pig, and, squirms, out, of, her, grip, The, Duchess, 's, Cheshire, Cat, appears, and, disappears, a, couple, of, times, to, Alice, and, directs, her, to, the, Mad, Hatter, 's, Mad, Tea, Party, After, a, while, she, leaves, \n",
      ", The, Queen, invites, Alice, to, join, the, ROYAL, PROCESSION, a, parade, of, marching, playing, cards, and, others, headed, by, the, White, Rabbit, When, Alice, unintentionally, offends, the, Queen, the, latter, summons, the, Executioner, Alice, boxes, the, ears, then, flees, when, all, the, playing, cards, come, for, her, Then, she, wakes, up, and, realizes, it, was, all, a, dream]\n"
     ]
    }
   ],
   "source": [
    "#using above properties we can clean the text\n",
    "\n",
    "sp_tokens=[t for t in sp_tokens if(t.is_punct==False)]\n",
    "print(sp_tokens)"
   ]
  },
  {
   "cell_type": "code",
   "execution_count": 13,
   "metadata": {},
   "outputs": [
    {
     "name": "stdout",
     "output_type": "stream",
     "text": [
      "[Alice, follows, large, white, rabbit, Rabbit, hole, finds, tiny, door, finds, bottle, labeled, Drink, shrinks, pass, door, eats, labeled, Eat, grows, larger, finds, fan, enables, shrink, Garden, try, Dog, play, enters, White, Rabbit, tiny, House, suddenly, resumes, normal, size, order, use, magic, fan, \n",
      ", enters, kitchen, cook, woman, holding, baby, persuades, woman, child, takes, infant, outside, cook, starts, throwing, things, baby, turns, pig, squirms, grip, Duchess, Cheshire, Cat, appears, disappears, couple, times, Alice, directs, Mad, Hatter, Mad, Tea, Party, leaves, \n",
      ", Queen, invites, Alice, join, ROYAL, PROCESSION, parade, marching, playing, cards, headed, White, Rabbit, Alice, unintentionally, offends, Queen, summons, Executioner, Alice, boxes, ears, flees, playing, cards, come, wakes, realizes, dream]\n"
     ]
    }
   ],
   "source": [
    "sp_tokens=[t for t in sp_tokens if(t.is_stop==False)]\n",
    "print(sp_tokens)"
   ]
  },
  {
   "cell_type": "code",
   "execution_count": 14,
   "metadata": {},
   "outputs": [
    {
     "name": "stdout",
     "output_type": "stream",
     "text": [
      "['Alice', 'follow', 'large', 'white', 'rabbit', 'rabbit', 'hole', 'find', 'tiny', 'door', 'find', 'bottle', 'label', 'drink', 'shrink', 'pass', 'door', 'eat', 'label', 'eat', 'grow', 'large', 'find', 'fan', 'enable', 'shrink', 'Garden', 'try', 'Dog', 'play', 'enter', 'White', 'Rabbit', 'tiny', 'House', 'suddenly', 'resume', 'normal', 'size', 'order', 'use', 'magic', 'fan', '\\n', 'enter', 'kitchen', 'cook', 'woman', 'hold', 'baby', 'persuade', 'woman', 'child', 'take', 'infant', 'outside', 'cook', 'start', 'throw', 'thing', 'baby', 'turn', 'pig', 'squirm', 'grip', 'Duchess', 'Cheshire', 'Cat', 'appear', 'disappear', 'couple', 'time', 'Alice', 'direct', 'Mad', 'Hatter', 'mad', 'Tea', 'Party', 'leave', '\\n', 'Queen', 'invite', 'Alice', 'join', 'ROYAL', 'procession', 'parade', 'march', 'playing', 'card', 'head', 'White', 'Rabbit', 'Alice', 'unintentionally', 'offend', 'queen', 'summon', 'Executioner', 'Alice', 'box', 'ear', 'flee', 'playing', 'card', 'come', 'wake', 'realize', 'dream']\n"
     ]
    }
   ],
   "source": [
    "sp_lemma=[token.lemma_ for token in sp_tokens] #.lemma_ is a property\n",
    "print(sp_lemma)"
   ]
  },
  {
   "cell_type": "code",
   "execution_count": 15,
   "metadata": {},
   "outputs": [
    {
     "name": "stdout",
     "output_type": "stream",
     "text": [
      "Alice follow large white rabbit rabbit hole find tiny door find bottle label drink shrink pass door eat label eat grow large find fan enable shrink Garden try Dog play enter White Rabbit tiny House suddenly resume normal size order use magic fan \n",
      " enter kitchen cook woman hold baby persuade woman child take infant outside cook start throw thing baby turn pig squirm grip Duchess Cheshire Cat appear disappear couple time Alice direct Mad Hatter mad Tea Party leave \n",
      " Queen invite Alice join ROYAL procession parade march playing card head White Rabbit Alice unintentionally offend queen summon Executioner Alice box ear flee playing card come wake realize dream\n"
     ]
    }
   ],
   "source": [
    "#now lets join all these lemmatized tokens into one paragraph, each token should be separated by a space (\" \") \n",
    "\n",
    "sp_clean=\" \".join(sp_lemma)\n",
    "print(sp_clean)"
   ]
  },
  {
   "cell_type": "code",
   "execution_count": 16,
   "metadata": {},
   "outputs": [
    {
     "name": "stdout",
     "output_type": "stream",
     "text": [
      "Alice ( nsubj )\n",
      "follows ( ROOT )\n",
      "a ( det )\n",
      "large ( amod )\n",
      "white ( amod )\n",
      "rabbit ( dobj )\n",
      "down ( prep )\n",
      "a ( det )\n",
      "\" ( punct )\n",
      "Rabbit ( compound )\n",
      "- ( punct )\n",
      "hole ( pobj )\n",
      "\" ( punct )\n",
      ". ( punct )\n"
     ]
    }
   ],
   "source": [
    "#let's check grammar dependency for one of the token sentences\n",
    "\n",
    "for sent_token in list(sp_doc.sents)[0]: #only for first sentence\n",
    "    print(sent_token.text, \"(\", sent_token.dep_,\")\")"
   ]
  },
  {
   "cell_type": "code",
   "execution_count": 39,
   "metadata": {},
   "outputs": [
    {
     "data": {
      "text/html": [
       "<svg xmlns=\"http://www.w3.org/2000/svg\" xmlns:xlink=\"http://www.w3.org/1999/xlink\" xml:lang=\"en\" id=\"0a95f2ee0b5249cb82387dbe3411a17d-0\" class=\"displacy\" width=\"1800\" height=\"574.5\" direction=\"ltr\" style=\"max-width: none; height: 574.5px; color: #000000; background: #ffffff; font-family: Arial; direction: ltr\">\n",
       "<text class=\"displacy-token\" fill=\"currentColor\" text-anchor=\"middle\" y=\"484.5\">\n",
       "    <tspan class=\"displacy-word\" fill=\"currentColor\" x=\"50\">Alice</tspan>\n",
       "    <tspan class=\"displacy-tag\" dy=\"2em\" fill=\"currentColor\" x=\"50\">PROPN</tspan>\n",
       "</text>\n",
       "\n",
       "<text class=\"displacy-token\" fill=\"currentColor\" text-anchor=\"middle\" y=\"484.5\">\n",
       "    <tspan class=\"displacy-word\" fill=\"currentColor\" x=\"225\">follows</tspan>\n",
       "    <tspan class=\"displacy-tag\" dy=\"2em\" fill=\"currentColor\" x=\"225\">VERB</tspan>\n",
       "</text>\n",
       "\n",
       "<text class=\"displacy-token\" fill=\"currentColor\" text-anchor=\"middle\" y=\"484.5\">\n",
       "    <tspan class=\"displacy-word\" fill=\"currentColor\" x=\"400\">a</tspan>\n",
       "    <tspan class=\"displacy-tag\" dy=\"2em\" fill=\"currentColor\" x=\"400\">DET</tspan>\n",
       "</text>\n",
       "\n",
       "<text class=\"displacy-token\" fill=\"currentColor\" text-anchor=\"middle\" y=\"484.5\">\n",
       "    <tspan class=\"displacy-word\" fill=\"currentColor\" x=\"575\">large</tspan>\n",
       "    <tspan class=\"displacy-tag\" dy=\"2em\" fill=\"currentColor\" x=\"575\">ADJ</tspan>\n",
       "</text>\n",
       "\n",
       "<text class=\"displacy-token\" fill=\"currentColor\" text-anchor=\"middle\" y=\"484.5\">\n",
       "    <tspan class=\"displacy-word\" fill=\"currentColor\" x=\"750\">white</tspan>\n",
       "    <tspan class=\"displacy-tag\" dy=\"2em\" fill=\"currentColor\" x=\"750\">ADJ</tspan>\n",
       "</text>\n",
       "\n",
       "<text class=\"displacy-token\" fill=\"currentColor\" text-anchor=\"middle\" y=\"484.5\">\n",
       "    <tspan class=\"displacy-word\" fill=\"currentColor\" x=\"925\">rabbit</tspan>\n",
       "    <tspan class=\"displacy-tag\" dy=\"2em\" fill=\"currentColor\" x=\"925\">NOUN</tspan>\n",
       "</text>\n",
       "\n",
       "<text class=\"displacy-token\" fill=\"currentColor\" text-anchor=\"middle\" y=\"484.5\">\n",
       "    <tspan class=\"displacy-word\" fill=\"currentColor\" x=\"1100\">down</tspan>\n",
       "    <tspan class=\"displacy-tag\" dy=\"2em\" fill=\"currentColor\" x=\"1100\">ADP</tspan>\n",
       "</text>\n",
       "\n",
       "<text class=\"displacy-token\" fill=\"currentColor\" text-anchor=\"middle\" y=\"484.5\">\n",
       "    <tspan class=\"displacy-word\" fill=\"currentColor\" x=\"1275\">a &quot;</tspan>\n",
       "    <tspan class=\"displacy-tag\" dy=\"2em\" fill=\"currentColor\" x=\"1275\">DET</tspan>\n",
       "</text>\n",
       "\n",
       "<text class=\"displacy-token\" fill=\"currentColor\" text-anchor=\"middle\" y=\"484.5\">\n",
       "    <tspan class=\"displacy-word\" fill=\"currentColor\" x=\"1450\">Rabbit-</tspan>\n",
       "    <tspan class=\"displacy-tag\" dy=\"2em\" fill=\"currentColor\" x=\"1450\">NOUN</tspan>\n",
       "</text>\n",
       "\n",
       "<text class=\"displacy-token\" fill=\"currentColor\" text-anchor=\"middle\" y=\"484.5\">\n",
       "    <tspan class=\"displacy-word\" fill=\"currentColor\" x=\"1625\">hole&quot;.</tspan>\n",
       "    <tspan class=\"displacy-tag\" dy=\"2em\" fill=\"currentColor\" x=\"1625\">PROPN</tspan>\n",
       "</text>\n",
       "\n",
       "<g class=\"displacy-arrow\">\n",
       "    <path class=\"displacy-arc\" id=\"arrow-0a95f2ee0b5249cb82387dbe3411a17d-0-0\" stroke-width=\"2px\" d=\"M70,439.5 C70,352.0 205.0,352.0 205.0,439.5\" fill=\"none\" stroke=\"currentColor\"/>\n",
       "    <text dy=\"1.25em\" style=\"font-size: 0.8em; letter-spacing: 1px\">\n",
       "        <textPath xlink:href=\"#arrow-0a95f2ee0b5249cb82387dbe3411a17d-0-0\" class=\"displacy-label\" startOffset=\"50%\" side=\"left\" fill=\"currentColor\" text-anchor=\"middle\">nsubj</textPath>\n",
       "    </text>\n",
       "    <path class=\"displacy-arrowhead\" d=\"M70,441.5 L62,429.5 78,429.5\" fill=\"currentColor\"/>\n",
       "</g>\n",
       "\n",
       "<g class=\"displacy-arrow\">\n",
       "    <path class=\"displacy-arc\" id=\"arrow-0a95f2ee0b5249cb82387dbe3411a17d-0-1\" stroke-width=\"2px\" d=\"M420,439.5 C420,177.0 915.0,177.0 915.0,439.5\" fill=\"none\" stroke=\"currentColor\"/>\n",
       "    <text dy=\"1.25em\" style=\"font-size: 0.8em; letter-spacing: 1px\">\n",
       "        <textPath xlink:href=\"#arrow-0a95f2ee0b5249cb82387dbe3411a17d-0-1\" class=\"displacy-label\" startOffset=\"50%\" side=\"left\" fill=\"currentColor\" text-anchor=\"middle\">det</textPath>\n",
       "    </text>\n",
       "    <path class=\"displacy-arrowhead\" d=\"M420,441.5 L412,429.5 428,429.5\" fill=\"currentColor\"/>\n",
       "</g>\n",
       "\n",
       "<g class=\"displacy-arrow\">\n",
       "    <path class=\"displacy-arc\" id=\"arrow-0a95f2ee0b5249cb82387dbe3411a17d-0-2\" stroke-width=\"2px\" d=\"M595,439.5 C595,264.5 910.0,264.5 910.0,439.5\" fill=\"none\" stroke=\"currentColor\"/>\n",
       "    <text dy=\"1.25em\" style=\"font-size: 0.8em; letter-spacing: 1px\">\n",
       "        <textPath xlink:href=\"#arrow-0a95f2ee0b5249cb82387dbe3411a17d-0-2\" class=\"displacy-label\" startOffset=\"50%\" side=\"left\" fill=\"currentColor\" text-anchor=\"middle\">amod</textPath>\n",
       "    </text>\n",
       "    <path class=\"displacy-arrowhead\" d=\"M595,441.5 L587,429.5 603,429.5\" fill=\"currentColor\"/>\n",
       "</g>\n",
       "\n",
       "<g class=\"displacy-arrow\">\n",
       "    <path class=\"displacy-arc\" id=\"arrow-0a95f2ee0b5249cb82387dbe3411a17d-0-3\" stroke-width=\"2px\" d=\"M770,439.5 C770,352.0 905.0,352.0 905.0,439.5\" fill=\"none\" stroke=\"currentColor\"/>\n",
       "    <text dy=\"1.25em\" style=\"font-size: 0.8em; letter-spacing: 1px\">\n",
       "        <textPath xlink:href=\"#arrow-0a95f2ee0b5249cb82387dbe3411a17d-0-3\" class=\"displacy-label\" startOffset=\"50%\" side=\"left\" fill=\"currentColor\" text-anchor=\"middle\">amod</textPath>\n",
       "    </text>\n",
       "    <path class=\"displacy-arrowhead\" d=\"M770,441.5 L762,429.5 778,429.5\" fill=\"currentColor\"/>\n",
       "</g>\n",
       "\n",
       "<g class=\"displacy-arrow\">\n",
       "    <path class=\"displacy-arc\" id=\"arrow-0a95f2ee0b5249cb82387dbe3411a17d-0-4\" stroke-width=\"2px\" d=\"M245,439.5 C245,89.5 920.0,89.5 920.0,439.5\" fill=\"none\" stroke=\"currentColor\"/>\n",
       "    <text dy=\"1.25em\" style=\"font-size: 0.8em; letter-spacing: 1px\">\n",
       "        <textPath xlink:href=\"#arrow-0a95f2ee0b5249cb82387dbe3411a17d-0-4\" class=\"displacy-label\" startOffset=\"50%\" side=\"left\" fill=\"currentColor\" text-anchor=\"middle\">dobj</textPath>\n",
       "    </text>\n",
       "    <path class=\"displacy-arrowhead\" d=\"M920.0,441.5 L928.0,429.5 912.0,429.5\" fill=\"currentColor\"/>\n",
       "</g>\n",
       "\n",
       "<g class=\"displacy-arrow\">\n",
       "    <path class=\"displacy-arc\" id=\"arrow-0a95f2ee0b5249cb82387dbe3411a17d-0-5\" stroke-width=\"2px\" d=\"M245,439.5 C245,2.0 1100.0,2.0 1100.0,439.5\" fill=\"none\" stroke=\"currentColor\"/>\n",
       "    <text dy=\"1.25em\" style=\"font-size: 0.8em; letter-spacing: 1px\">\n",
       "        <textPath xlink:href=\"#arrow-0a95f2ee0b5249cb82387dbe3411a17d-0-5\" class=\"displacy-label\" startOffset=\"50%\" side=\"left\" fill=\"currentColor\" text-anchor=\"middle\">prep</textPath>\n",
       "    </text>\n",
       "    <path class=\"displacy-arrowhead\" d=\"M1100.0,441.5 L1108.0,429.5 1092.0,429.5\" fill=\"currentColor\"/>\n",
       "</g>\n",
       "\n",
       "<g class=\"displacy-arrow\">\n",
       "    <path class=\"displacy-arc\" id=\"arrow-0a95f2ee0b5249cb82387dbe3411a17d-0-6\" stroke-width=\"2px\" d=\"M1295,439.5 C1295,264.5 1610.0,264.5 1610.0,439.5\" fill=\"none\" stroke=\"currentColor\"/>\n",
       "    <text dy=\"1.25em\" style=\"font-size: 0.8em; letter-spacing: 1px\">\n",
       "        <textPath xlink:href=\"#arrow-0a95f2ee0b5249cb82387dbe3411a17d-0-6\" class=\"displacy-label\" startOffset=\"50%\" side=\"left\" fill=\"currentColor\" text-anchor=\"middle\">det</textPath>\n",
       "    </text>\n",
       "    <path class=\"displacy-arrowhead\" d=\"M1295,441.5 L1287,429.5 1303,429.5\" fill=\"currentColor\"/>\n",
       "</g>\n",
       "\n",
       "<g class=\"displacy-arrow\">\n",
       "    <path class=\"displacy-arc\" id=\"arrow-0a95f2ee0b5249cb82387dbe3411a17d-0-7\" stroke-width=\"2px\" d=\"M1470,439.5 C1470,352.0 1605.0,352.0 1605.0,439.5\" fill=\"none\" stroke=\"currentColor\"/>\n",
       "    <text dy=\"1.25em\" style=\"font-size: 0.8em; letter-spacing: 1px\">\n",
       "        <textPath xlink:href=\"#arrow-0a95f2ee0b5249cb82387dbe3411a17d-0-7\" class=\"displacy-label\" startOffset=\"50%\" side=\"left\" fill=\"currentColor\" text-anchor=\"middle\">compound</textPath>\n",
       "    </text>\n",
       "    <path class=\"displacy-arrowhead\" d=\"M1470,441.5 L1462,429.5 1478,429.5\" fill=\"currentColor\"/>\n",
       "</g>\n",
       "\n",
       "<g class=\"displacy-arrow\">\n",
       "    <path class=\"displacy-arc\" id=\"arrow-0a95f2ee0b5249cb82387dbe3411a17d-0-8\" stroke-width=\"2px\" d=\"M1120,439.5 C1120,177.0 1615.0,177.0 1615.0,439.5\" fill=\"none\" stroke=\"currentColor\"/>\n",
       "    <text dy=\"1.25em\" style=\"font-size: 0.8em; letter-spacing: 1px\">\n",
       "        <textPath xlink:href=\"#arrow-0a95f2ee0b5249cb82387dbe3411a17d-0-8\" class=\"displacy-label\" startOffset=\"50%\" side=\"left\" fill=\"currentColor\" text-anchor=\"middle\">pobj</textPath>\n",
       "    </text>\n",
       "    <path class=\"displacy-arrowhead\" d=\"M1615.0,441.5 L1623.0,429.5 1607.0,429.5\" fill=\"currentColor\"/>\n",
       "</g>\n",
       "</svg>"
      ],
      "text/plain": [
       "<IPython.core.display.HTML object>"
      ]
     },
     "metadata": {},
     "output_type": "display_data"
    }
   ],
   "source": [
    "# dependency graph\n",
    "#options = {'compact': True, 'bg': '#09a3d5', 'color': 'white'}\n",
    "spacy.displacy.render(list(sp_doc.sents)[0], jupyter=True, style='dep')"
   ]
  },
  {
   "cell_type": "code",
   "execution_count": 17,
   "metadata": {},
   "outputs": [
    {
     "name": "stdout",
     "output_type": "stream",
     "text": [
      "Token:  Alice POS Tag:  PROPN\n",
      "Token:  She POS Tag:  PRON\n",
      "Token:  When POS Tag:  ADV\n",
      "Token:  She POS Tag:  PRON\n",
      "Token:  She POS Tag:  PRON\n",
      "Token:  She POS Tag:  PRON\n",
      "Token:  In POS Tag:  ADP\n",
      "Token:  \" POS Tag:  PUNCT\n",
      "Token:  She POS Tag:  PRON\n",
      "Token:  She POS Tag:  PRON\n",
      "Token:  The POS Tag:  DET\n",
      "Token:  \" POS Tag:  PUNCT\n",
      "Token:  The POS Tag:  DET\n",
      "Token:  \" POS Tag:  PUNCT\n",
      "Token:  After POS Tag:  ADP\n",
      "Token:  The POS Tag:  DET\n",
      "Token:  When POS Tag:  ADV\n",
      "Token:  Alice POS Tag:  PROPN\n",
      "Token:  Then POS Tag:  ADV\n"
     ]
    }
   ],
   "source": [
    "# we finally cleaned the text (tokenize, remove punctuations, remove stop worrds, and lemmatize)\n",
    "#let's do some parts of speech tagging (pos)\n",
    "\n",
    "for sent in sp_doc.sents:\n",
    "    for token in sent:\n",
    "        print (\"Token: \", token, \"POS Tag: \", token.pos_)\n",
    "        break #writing this break statement here breaks after 1st sentence..if you want POS tags for every word in para\n",
    "        #remove break statement   "
   ]
  },
  {
   "cell_type": "code",
   "execution_count": 18,
   "metadata": {},
   "outputs": [
    {
     "name": "stdout",
     "output_type": "stream",
     "text": [
      "Entity: the \"Garden\" (Label: FAC )\n",
      "Entity: a \"Dog (Label: WORK_OF_ART )\n",
      "Entity: the \"White Rabbit's (Label: FAC )\n",
      "Entity: House (Label: ORG )\n",
      "Entity: The Duchess's Cheshire Cat (Label: WORK_OF_ART )\n",
      "Entity: Alice (Label: PERSON )\n",
      "Entity: the Mad Hatter's (Label: ORG )\n",
      "Entity: Mad Tea-Party (Label: WORK_OF_ART )\n",
      "Entity: Queen (Label: PERSON )\n",
      "Entity: Alice (Label: PERSON )\n",
      "Entity: the White Rabbit (Label: ORG )\n",
      "Entity: Alice (Label: PERSON )\n",
      "Entity: Queen (Label: PERSON )\n",
      "Entity: Executioner (Label: WORK_OF_ART )\n",
      "Entity: Alice (Label: PERSON )\n"
     ]
    }
   ],
   "source": [
    "for ent in sp_doc.ents:\n",
    "    if ent.text.strip():\n",
    "        print(\"Entity:\", ent.text, \"(Label:\", ent.label_,\")\")\n",
    "   \n",
    "   \n",
    "\n",
    "\n"
   ]
  },
  {
   "cell_type": "code",
   "execution_count": 19,
   "metadata": {},
   "outputs": [
    {
     "data": {
      "text/html": [
       "<div class=\"entities\" style=\"line-height: 2.5; direction: ltr\">Alice follows a large white rabbit down a &quot;Rabbit-hole&quot;. She finds a tiny door. When she finds a bottle labeled &quot;Drink me&quot;, she does, and shrinks, but not enough to pass through the door. She then eats something labeled &quot;Eat me&quot; and grows larger. She finds a fan when enables her to shrink enough to get into \n",
       "<mark class=\"entity\" style=\"background: #ddd; padding: 0.45em 0.6em; margin: 0 0.25em; line-height: 1; border-radius: 0.35em; box-decoration-break: clone; -webkit-box-decoration-break: clone\">\n",
       "    the &quot;Garden&quot;\n",
       "    <span style=\"font-size: 0.8em; font-weight: bold; line-height: 1; border-radius: 0.35em; text-transform: uppercase; vertical-align: middle; margin-left: 0.5rem\">FAC</span>\n",
       "</mark>\n",
       " and try to get \n",
       "<mark class=\"entity\" style=\"background: #f0d0ff; padding: 0.45em 0.6em; margin: 0 0.25em; line-height: 1; border-radius: 0.35em; box-decoration-break: clone; -webkit-box-decoration-break: clone\">\n",
       "    a &quot;Dog\n",
       "    <span style=\"font-size: 0.8em; font-weight: bold; line-height: 1; border-radius: 0.35em; text-transform: uppercase; vertical-align: middle; margin-left: 0.5rem\">WORK_OF_ART</span>\n",
       "</mark>\n",
       "&quot; to play with her. She enters \n",
       "<mark class=\"entity\" style=\"background: #ddd; padding: 0.45em 0.6em; margin: 0 0.25em; line-height: 1; border-radius: 0.35em; box-decoration-break: clone; -webkit-box-decoration-break: clone\">\n",
       "    the &quot;White Rabbit's\n",
       "    <span style=\"font-size: 0.8em; font-weight: bold; line-height: 1; border-radius: 0.35em; text-transform: uppercase; vertical-align: middle; margin-left: 0.5rem\">FAC</span>\n",
       "</mark>\n",
       " tiny \n",
       "<mark class=\"entity\" style=\"background: #7aecec; padding: 0.45em 0.6em; margin: 0 0.25em; line-height: 1; border-radius: 0.35em; box-decoration-break: clone; -webkit-box-decoration-break: clone\">\n",
       "    House\n",
       "    <span style=\"font-size: 0.8em; font-weight: bold; line-height: 1; border-radius: 0.35em; text-transform: uppercase; vertical-align: middle; margin-left: 0.5rem\">ORG</span>\n",
       "</mark>\n",
       ",&quot; but suddenly resumes her normal size. In order to get out, she has to use the &quot;magic fan.&quot;</br>She enters a kitchen, in which there is a cook and a woman holding a baby. She persuades the woman to give her the child and takes the infant outside after the cook starts throwing things around. The baby then turns into a pig and squirms out of her grip. &quot;\n",
       "<mark class=\"entity\" style=\"background: #f0d0ff; padding: 0.45em 0.6em; margin: 0 0.25em; line-height: 1; border-radius: 0.35em; box-decoration-break: clone; -webkit-box-decoration-break: clone\">\n",
       "    The Duchess's Cheshire Cat\n",
       "    <span style=\"font-size: 0.8em; font-weight: bold; line-height: 1; border-radius: 0.35em; text-transform: uppercase; vertical-align: middle; margin-left: 0.5rem\">WORK_OF_ART</span>\n",
       "</mark>\n",
       "&quot; appears and disappears a couple of times to \n",
       "<mark class=\"entity\" style=\"background: #aa9cfc; padding: 0.45em 0.6em; margin: 0 0.25em; line-height: 1; border-radius: 0.35em; box-decoration-break: clone; -webkit-box-decoration-break: clone\">\n",
       "    Alice\n",
       "    <span style=\"font-size: 0.8em; font-weight: bold; line-height: 1; border-radius: 0.35em; text-transform: uppercase; vertical-align: middle; margin-left: 0.5rem\">PERSON</span>\n",
       "</mark>\n",
       " and directs her to \n",
       "<mark class=\"entity\" style=\"background: #7aecec; padding: 0.45em 0.6em; margin: 0 0.25em; line-height: 1; border-radius: 0.35em; box-decoration-break: clone; -webkit-box-decoration-break: clone\">\n",
       "    the Mad Hatter's\n",
       "    <span style=\"font-size: 0.8em; font-weight: bold; line-height: 1; border-radius: 0.35em; text-transform: uppercase; vertical-align: middle; margin-left: 0.5rem\">ORG</span>\n",
       "</mark>\n",
       " &quot;\n",
       "<mark class=\"entity\" style=\"background: #f0d0ff; padding: 0.45em 0.6em; margin: 0 0.25em; line-height: 1; border-radius: 0.35em; box-decoration-break: clone; -webkit-box-decoration-break: clone\">\n",
       "    Mad Tea-Party\n",
       "    <span style=\"font-size: 0.8em; font-weight: bold; line-height: 1; border-radius: 0.35em; text-transform: uppercase; vertical-align: middle; margin-left: 0.5rem\">WORK_OF_ART</span>\n",
       "</mark>\n",
       ".&quot; After a while, she leaves.</br>The \n",
       "<mark class=\"entity\" style=\"background: #aa9cfc; padding: 0.45em 0.6em; margin: 0 0.25em; line-height: 1; border-radius: 0.35em; box-decoration-break: clone; -webkit-box-decoration-break: clone\">\n",
       "    Queen\n",
       "    <span style=\"font-size: 0.8em; font-weight: bold; line-height: 1; border-radius: 0.35em; text-transform: uppercase; vertical-align: middle; margin-left: 0.5rem\">PERSON</span>\n",
       "</mark>\n",
       " invites \n",
       "<mark class=\"entity\" style=\"background: #aa9cfc; padding: 0.45em 0.6em; margin: 0 0.25em; line-height: 1; border-radius: 0.35em; box-decoration-break: clone; -webkit-box-decoration-break: clone\">\n",
       "    Alice\n",
       "    <span style=\"font-size: 0.8em; font-weight: bold; line-height: 1; border-radius: 0.35em; text-transform: uppercase; vertical-align: middle; margin-left: 0.5rem\">PERSON</span>\n",
       "</mark>\n",
       " to join the &quot;ROYAL PROCESSION&quot;: a parade of marching playing cards and others headed by \n",
       "<mark class=\"entity\" style=\"background: #7aecec; padding: 0.45em 0.6em; margin: 0 0.25em; line-height: 1; border-radius: 0.35em; box-decoration-break: clone; -webkit-box-decoration-break: clone\">\n",
       "    the White Rabbit\n",
       "    <span style=\"font-size: 0.8em; font-weight: bold; line-height: 1; border-radius: 0.35em; text-transform: uppercase; vertical-align: middle; margin-left: 0.5rem\">ORG</span>\n",
       "</mark>\n",
       ". When \n",
       "<mark class=\"entity\" style=\"background: #aa9cfc; padding: 0.45em 0.6em; margin: 0 0.25em; line-height: 1; border-radius: 0.35em; box-decoration-break: clone; -webkit-box-decoration-break: clone\">\n",
       "    Alice\n",
       "    <span style=\"font-size: 0.8em; font-weight: bold; line-height: 1; border-radius: 0.35em; text-transform: uppercase; vertical-align: middle; margin-left: 0.5rem\">PERSON</span>\n",
       "</mark>\n",
       " &quot;unintentionally offends the \n",
       "<mark class=\"entity\" style=\"background: #aa9cfc; padding: 0.45em 0.6em; margin: 0 0.25em; line-height: 1; border-radius: 0.35em; box-decoration-break: clone; -webkit-box-decoration-break: clone\">\n",
       "    Queen\n",
       "    <span style=\"font-size: 0.8em; font-weight: bold; line-height: 1; border-radius: 0.35em; text-transform: uppercase; vertical-align: middle; margin-left: 0.5rem\">PERSON</span>\n",
       "</mark>\n",
       "&quot;, the latter summons the &quot;\n",
       "<mark class=\"entity\" style=\"background: #f0d0ff; padding: 0.45em 0.6em; margin: 0 0.25em; line-height: 1; border-radius: 0.35em; box-decoration-break: clone; -webkit-box-decoration-break: clone\">\n",
       "    Executioner\n",
       "    <span style=\"font-size: 0.8em; font-weight: bold; line-height: 1; border-radius: 0.35em; text-transform: uppercase; vertical-align: middle; margin-left: 0.5rem\">WORK_OF_ART</span>\n",
       "</mark>\n",
       "&quot;. \n",
       "<mark class=\"entity\" style=\"background: #aa9cfc; padding: 0.45em 0.6em; margin: 0 0.25em; line-height: 1; border-radius: 0.35em; box-decoration-break: clone; -webkit-box-decoration-break: clone\">\n",
       "    Alice\n",
       "    <span style=\"font-size: 0.8em; font-weight: bold; line-height: 1; border-radius: 0.35em; text-transform: uppercase; vertical-align: middle; margin-left: 0.5rem\">PERSON</span>\n",
       "</mark>\n",
       " &quot;boxes the ears&quot;, then flees when all the playing cards come for her. Then she wakes up and realizes it was all a dream.</div>"
      ],
      "text/plain": [
       "<IPython.core.display.HTML object>"
      ]
     },
     "metadata": {},
     "output_type": "display_data"
    }
   ],
   "source": [
    "## this can be seen beautifully in paragraph\n",
    "spacy.displacy.render(sp_doc,style='ent')"
   ]
  },
  {
   "cell_type": "code",
   "execution_count": 20,
   "metadata": {},
   "outputs": [
    {
     "name": "stdout",
     "output_type": "stream",
     "text": [
      "Alice\n",
      "a large white rabbit\n",
      "a \"Rabbit-hole\n",
      "She\n",
      "a tiny door\n",
      "she\n",
      "a bottle\n",
      "me\n",
      "she\n",
      "shrinks\n",
      "the door\n",
      "She\n",
      "something\n",
      "me\n",
      "She\n",
      "a fan\n",
      "her\n",
      "the \"Garden\n",
      "a \"Dog\n",
      "her\n",
      "She\n",
      "the \"White Rabbit's tiny House\n",
      "her normal size\n",
      "order\n",
      "she\n",
      "the \"magic fan\n",
      "She\n",
      "a kitchen\n",
      "a cook\n",
      "a woman\n",
      "a baby\n",
      "She\n",
      "the woman\n",
      "her\n",
      "the child\n",
      "the infant\n",
      "the cook\n",
      "things\n",
      "The baby\n",
      "a pig\n",
      "her grip\n",
      "The Duchess's Cheshire Cat\n",
      "a couple\n",
      "times\n",
      "Alice\n",
      "her\n",
      "the Mad Hatter's \"Mad Tea-Party\n",
      "a while\n",
      "she\n",
      "The Queen\n",
      "Alice\n",
      "the \"ROYAL PROCESSION\n",
      "a parade\n",
      "playing cards\n",
      "others\n",
      "the White Rabbit\n",
      "Alice\n",
      "the Queen\n",
      "the latter summons\n",
      "the \"Executioner\n",
      "Alice\n",
      "the ears\n",
      "all the playing cards\n",
      "her\n",
      "she\n",
      "it\n",
      "a dream\n"
     ]
    }
   ],
   "source": [
    "# Noun chunks are “base noun phrases” – flat phrases that have a noun as their head. \n",
    "# You can think of noun chunks as a noun plus the words describing the noun – for example, \n",
    "# “the lavish green grass” or “the world’s largest tech fund”. \n",
    "# To get the noun chunks in a document, simply iterate over\n",
    "\n",
    "for noun_phr in sp_doc.noun_chunks:\n",
    "    print(noun_phr)"
   ]
  }
 ],
 "metadata": {
  "kernelspec": {
   "display_name": "Python 3",
   "language": "python",
   "name": "python3"
  },
  "language_info": {
   "codemirror_mode": {
    "name": "ipython",
    "version": 3
   },
   "file_extension": ".py",
   "mimetype": "text/x-python",
   "name": "python",
   "nbconvert_exporter": "python",
   "pygments_lexer": "ipython3",
   "version": "3.7.3"
  }
 },
 "nbformat": 4,
 "nbformat_minor": 2
}
