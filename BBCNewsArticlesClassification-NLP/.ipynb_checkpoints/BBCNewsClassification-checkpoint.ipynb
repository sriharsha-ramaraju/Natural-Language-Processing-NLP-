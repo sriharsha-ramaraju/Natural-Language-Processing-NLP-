{
 "cells": [
  {
   "cell_type": "code",
   "execution_count": 1,
   "metadata": {},
   "outputs": [],
   "source": [
    "# classification of BBC news articles..we will be using two (count vector and TF-IDF) of mostly used \n",
    "#feature extraction methods \n",
    "\n",
    "#This dataset is downloaded from Kaggle (https://www.kaggle.com/c/learn-ai-bbc)"
   ]
  },
  {
   "cell_type": "code",
   "execution_count": 2,
   "metadata": {},
   "outputs": [],
   "source": [
    "import pandas as pd\n",
    "bbc=pd.read_csv('bbc_news_mixed.csv')"
   ]
  },
  {
   "cell_type": "code",
   "execution_count": 3,
   "metadata": {},
   "outputs": [
    {
     "data": {
      "text/plain": [
       "'Cairn shares slump on oil setback\\n\\nShares in Cairn Energy, a UK oil firm, have closed down 18% after a disappointing drilling update and a warning over possible tax demands.\\n\\nThe company said tests had shown no significant finds in one of its Indian oil fields, but was upbeat about the potential of other areas. It also said the Indian government had told it to pay a production tax, for which Cairn argues it is not liable. Cairn\\'s shares have jumped by almost 400% this year. Investors had piled into Cairn after the company announced significant oil finds in India this year. Chief executive Bill Gammell said on Friday he was \"disappointed\" with exploration in the so-called N-C extension area in Rajasthan. Investors had held high hopes of major oil finds in this area. But Cairn said estimates had been revised in what was a \"significant downgrade of the initial expectation\".\\n\\nCairn also said that the government believed the company was liable to pay taxes under its production-sharing contract. The company said the rate would be about 900 rupees ($20.40; £10.50) per tonne, or seven barrels, of oil. A spokesman for the firm said that the tax would wipe 5% of the field\\'s current value.\\n\\n\"Cairn refutes the government\\'s position,\" Mr Gammell said. He insisted that the contract made it clear that the tax should be shouldered by the licensee - India\\'s state-run Oil & Natural Gas Corp (ONGC) - and not the contractor. \"We have a pretty strong legal case here,\" he added, saying it would only become an issue once the firm started production. Investors took a dim view of the statements though. The shares closed down 247p, or 18%, at 1115 pence. \"I think people were slightly over-ambitious for how quickly Cairn would be able to develop and potentially offload these reserves,\" said analyst Jason Kenney at ING.\\n\\nThe disappointments overshadowed increased production targets for Cairn\\'s existing oilfields. The company raised targets for its Mangala and Aishwariya fields in India from 60,000 barrels a day to between 80,000 and 100,000 barrels a day. Its Mangala field, thought to contain a billion barrels, is its biggest find to date. \"These two fields will provide the core of the future developments in Rajasthan,\" Mr Gammell said. Cairn added that it would be appraising another field early next year. Mr Gammell set up the company in the 1980s and has successfully switched its focus to South Asia from interests in the US and Europe. Cairn, which also operates in Nepal and Bangladesh, was catapulted into the FTSE 100 index of leading UK shares earlier this year after the sharp rise in its share price.\\n'"
      ]
     },
     "execution_count": 3,
     "metadata": {},
     "output_type": "execute_result"
    }
   ],
   "source": [
    "## data exploration\n",
    "\n",
    "bbc.head() # top 5 observastions\n",
    "bbc.tail() # bottom 5 observastions\n",
    "bbc['text'][0]#first article\n",
    "\n"
   ]
  },
  {
   "cell_type": "code",
   "execution_count": 4,
   "metadata": {},
   "outputs": [
    {
     "name": "stdout",
     "output_type": "stream",
     "text": [
      "<class 'pandas.core.frame.DataFrame'>\n",
      "RangeIndex: 2225 entries, 0 to 2224\n",
      "Data columns (total 2 columns):\n",
      "text     2225 non-null object\n",
      "label    2225 non-null object\n",
      "dtypes: object(2)\n",
      "memory usage: 34.9+ KB\n",
      "           index  label\n",
      "0          sport    511\n",
      "1       business    510\n",
      "2       politics    417\n",
      "3           tech    401\n",
      "4  entertainment    386\n",
      "------------\n",
      "sport : 22.97 %\n",
      "business : 22.92 %\n",
      "politics : 18.74 %\n",
      "tech : 18.02 %\n"
     ]
    }
   ],
   "source": [
    "bbc.info() #\n",
    "bbc.label.value_counts() #gives how many observastions/articles are present per class label\n",
    "#looking at these value_counts, there is no class imbalance..more or less every class has similar number of obs\n",
    "bbc_shp=bbc.shape[0]\n",
    "label_val=bbc.label.value_counts().reset_index()\n",
    "print(label_val)\n",
    "print('------------')\n",
    "\n",
    "for lab in range(4):\n",
    "    print(label_val['index'][lab], ':' ,round(label_val['label'][lab]/bbc_shp*100,2),'%')\n"
   ]
  },
  {
   "cell_type": "code",
   "execution_count": 9,
   "metadata": {},
   "outputs": [
    {
     "data": {
      "text/plain": [
       "3    511\n",
       "0    510\n",
       "2    417\n",
       "4    401\n",
       "1    386\n",
       "Name: label, dtype: int64"
      ]
     },
     "execution_count": 9,
     "metadata": {},
     "output_type": "execute_result"
    }
   ],
   "source": [
    "## labels are in text format..let's encode them into numbers..for that we need to import labelencoder from scikit-learn\n",
    "from sklearn.preprocessing import LabelEncoder\n",
    "\n",
    "labenc=LabelEncoder()\n",
    "bbc.label=labenc.fit_transform(bbc.label)#transforms text labels to numericals\n",
    "bbc.label.value_counts()#3-sport 0-business 2-politics 4-tech 1-entertainment\n"
   ]
  },
  {
   "cell_type": "code",
   "execution_count": 28,
   "metadata": {},
   "outputs": [
    {
     "name": "stdout",
     "output_type": "stream",
     "text": [
      "type of document term matrix: <class 'scipy.sparse.csr.csr_matrix'>\n",
      "shape of document term matrix: (2225, 29126)\n",
      "number of words(features): 29126\n",
      "---------------------------\n",
      "['callaghan', 'callam', 'called', 'calleri', 'callers', 'calling', 'callow', 'calls', 'calm', 'calmed', 'calmer', 'calming', 'calms', 'calorie', 'calorific', 'calum', 'calvin', 'calvisano', 'calyon', 'cam', 'camara', 'camaraderie', 'camberley', 'cambiemos', 'cambodia', 'cambridge', 'cambridgeshire', 'camcorder', 'camcorders', 'camden', 'came', 'camels', 'cameo', 'camera', 'cameras', 'cameron', 'cameroon', 'cameroonians', 'camilla', 'camille', 'camp', 'campaiging', 'campaign', 'campaigned', 'campaigner', 'campaigners', 'campaigning', 'campaigns', 'campbell', 'camped']\n"
     ]
    }
   ],
   "source": [
    "#as mentioned earlier we will be using count vector and tf-idf techniques\n",
    "# first we will implement count vector technique (document term matrix)\n",
    "\n",
    "from sklearn.feature_extraction.text import CountVectorizer\n",
    "#build document term matrix (count vectors)\n",
    "cvec=CountVectorizer(stop_words='english')\n",
    "dtm=cvec.fit_transform(bbc.text)\n",
    "print('type of document term matrix:',type(dtm))\n",
    "print('shape of document term matrix:',dtm.shape)\n",
    "print('number of words(features):',len(cvec.vocabulary_))\n",
    "print('---------------------------')\n",
    "print(cvec.get_feature_names()[5000:5050])"
   ]
  },
  {
   "cell_type": "code",
   "execution_count": 36,
   "metadata": {},
   "outputs": [
    {
     "name": "stderr",
     "output_type": "stream",
     "text": [
      "C:\\Users\\nsr156\\AppData\\Local\\Continuum\\anaconda3\\lib\\site-packages\\ipykernel_launcher.py:2: FutureWarning: SparseDataFrame is deprecated and will be removed in a future version.\n",
      "Use a regular DataFrame whose columns are SparseArrays instead.\n",
      "\n",
      "See http://pandas.pydata.org/pandas-docs/stable/user_guide/sparse.html#migrating for more.\n",
      "\n",
      "  \n",
      "C:\\Users\\nsr156\\AppData\\Local\\Continuum\\anaconda3\\lib\\site-packages\\pandas\\core\\sparse\\frame.py:257: FutureWarning: SparseSeries is deprecated and will be removed in a future version.\n",
      "Use a Series with sparse values instead.\n",
      "\n",
      "    >>> series = pd.Series(pd.SparseArray(...))\n",
      "\n",
      "See http://pandas.pydata.org/pandas-docs/stable/user_guide/sparse.html#migrating for more.\n",
      "\n",
      "  sparse_index=BlockIndex(N, blocs, blens),\n",
      "C:\\Users\\nsr156\\AppData\\Local\\Continuum\\anaconda3\\lib\\site-packages\\pandas\\core\\frame.py:3456: FutureWarning: SparseSeries is deprecated and will be removed in a future version.\n",
      "Use a Series with sparse values instead.\n",
      "\n",
      "    >>> series = pd.Series(pd.SparseArray(...))\n",
      "\n",
      "See http://pandas.pydata.org/pandas-docs/stable/user_guide/sparse.html#migrating for more.\n",
      "\n",
      "  return klass(values, index=self.index, name=items, fastpath=True)\n",
      "C:\\Users\\nsr156\\AppData\\Local\\Continuum\\anaconda3\\lib\\site-packages\\pandas\\core\\sparse\\frame.py:745: FutureWarning: SparseDataFrame is deprecated and will be removed in a future version.\n",
      "Use a regular DataFrame whose columns are SparseArrays instead.\n",
      "\n",
      "See http://pandas.pydata.org/pandas-docs/stable/user_guide/sparse.html#migrating for more.\n",
      "\n",
      "  default_fill_value=self._default_fill_value,\n",
      "C:\\Users\\nsr156\\AppData\\Local\\Continuum\\anaconda3\\lib\\site-packages\\pandas\\core\\sparse\\frame.py:721: FutureWarning: SparseDataFrame is deprecated and will be removed in a future version.\n",
      "Use a regular DataFrame whose columns are SparseArrays instead.\n",
      "\n",
      "See http://pandas.pydata.org/pandas-docs/stable/user_guide/sparse.html#migrating for more.\n",
      "\n",
      "  default_fill_value=self._default_fill_value,\n",
      "C:\\Users\\nsr156\\AppData\\Local\\Continuum\\anaconda3\\lib\\site-packages\\pandas\\core\\generic.py:5997: FutureWarning: SparseDataFrame is deprecated and will be removed in a future version.\n",
      "Use a regular DataFrame whose columns are SparseArrays instead.\n",
      "\n",
      "See http://pandas.pydata.org/pandas-docs/stable/user_guide/sparse.html#migrating for more.\n",
      "\n",
      "  return self._constructor(data).__finalize__(self)\n",
      "C:\\Users\\nsr156\\AppData\\Local\\Continuum\\anaconda3\\lib\\site-packages\\pandas\\core\\sparse\\frame.py:745: FutureWarning: SparseDataFrame is deprecated and will be removed in a future version.\n",
      "Use a regular DataFrame whose columns are SparseArrays instead.\n",
      "\n",
      "See http://pandas.pydata.org/pandas-docs/stable/user_guide/sparse.html#migrating for more.\n",
      "\n",
      "  default_fill_value=self._default_fill_value,\n",
      "C:\\Users\\nsr156\\AppData\\Local\\Continuum\\anaconda3\\lib\\site-packages\\pandas\\core\\generic.py:5997: FutureWarning: SparseDataFrame is deprecated and will be removed in a future version.\n",
      "Use a regular DataFrame whose columns are SparseArrays instead.\n",
      "\n",
      "See http://pandas.pydata.org/pandas-docs/stable/user_guide/sparse.html#migrating for more.\n",
      "\n",
      "  return self._constructor(data).__finalize__(self)\n",
      "C:\\Users\\nsr156\\AppData\\Local\\Continuum\\anaconda3\\lib\\site-packages\\pandas\\core\\generic.py:392: FutureWarning: SparseDataFrame is deprecated and will be removed in a future version.\n",
      "Use a regular DataFrame whose columns are SparseArrays instead.\n",
      "\n",
      "See http://pandas.pydata.org/pandas-docs/stable/user_guide/sparse.html#migrating for more.\n",
      "\n",
      "  return cls(data, **kwargs)\n",
      "C:\\Users\\nsr156\\AppData\\Local\\Continuum\\anaconda3\\lib\\site-packages\\pandas\\core\\frame.py:3456: FutureWarning: SparseSeries is deprecated and will be removed in a future version.\n",
      "Use a Series with sparse values instead.\n",
      "\n",
      "    >>> series = pd.Series(pd.SparseArray(...))\n",
      "\n",
      "See http://pandas.pydata.org/pandas-docs/stable/user_guide/sparse.html#migrating for more.\n",
      "\n",
      "  return klass(values, index=self.index, name=items, fastpath=True)\n"
     ]
    },
    {
     "data": {
      "text/html": [
       "<div>\n",
       "<style scoped>\n",
       "    .dataframe tbody tr th:only-of-type {\n",
       "        vertical-align: middle;\n",
       "    }\n",
       "\n",
       "    .dataframe tbody tr th {\n",
       "        vertical-align: top;\n",
       "    }\n",
       "\n",
       "    .dataframe thead th {\n",
       "        text-align: right;\n",
       "    }\n",
       "</style>\n",
       "<table border=\"1\" class=\"dataframe\">\n",
       "  <thead>\n",
       "    <tr style=\"text-align: right;\">\n",
       "      <th></th>\n",
       "      <th>callaghan</th>\n",
       "      <th>callam</th>\n",
       "      <th>called</th>\n",
       "      <th>calleri</th>\n",
       "      <th>callers</th>\n",
       "      <th>calling</th>\n",
       "      <th>callow</th>\n",
       "      <th>calls</th>\n",
       "      <th>calm</th>\n",
       "      <th>calmed</th>\n",
       "      <th>...</th>\n",
       "      <th>camp</th>\n",
       "      <th>campaiging</th>\n",
       "      <th>campaign</th>\n",
       "      <th>campaigned</th>\n",
       "      <th>campaigner</th>\n",
       "      <th>campaigners</th>\n",
       "      <th>campaigning</th>\n",
       "      <th>campaigns</th>\n",
       "      <th>campbell</th>\n",
       "      <th>camped</th>\n",
       "    </tr>\n",
       "  </thead>\n",
       "  <tbody>\n",
       "    <tr>\n",
       "      <td>0</td>\n",
       "      <td>0</td>\n",
       "      <td>0</td>\n",
       "      <td>1</td>\n",
       "      <td>0</td>\n",
       "      <td>0</td>\n",
       "      <td>0</td>\n",
       "      <td>0</td>\n",
       "      <td>0</td>\n",
       "      <td>0</td>\n",
       "      <td>0</td>\n",
       "      <td>...</td>\n",
       "      <td>0</td>\n",
       "      <td>0</td>\n",
       "      <td>0</td>\n",
       "      <td>0</td>\n",
       "      <td>0</td>\n",
       "      <td>0</td>\n",
       "      <td>0</td>\n",
       "      <td>0</td>\n",
       "      <td>0</td>\n",
       "      <td>0</td>\n",
       "    </tr>\n",
       "    <tr>\n",
       "      <td>1</td>\n",
       "      <td>0</td>\n",
       "      <td>0</td>\n",
       "      <td>0</td>\n",
       "      <td>0</td>\n",
       "      <td>0</td>\n",
       "      <td>0</td>\n",
       "      <td>0</td>\n",
       "      <td>0</td>\n",
       "      <td>0</td>\n",
       "      <td>0</td>\n",
       "      <td>...</td>\n",
       "      <td>0</td>\n",
       "      <td>0</td>\n",
       "      <td>0</td>\n",
       "      <td>0</td>\n",
       "      <td>0</td>\n",
       "      <td>0</td>\n",
       "      <td>0</td>\n",
       "      <td>0</td>\n",
       "      <td>0</td>\n",
       "      <td>0</td>\n",
       "    </tr>\n",
       "    <tr>\n",
       "      <td>2</td>\n",
       "      <td>0</td>\n",
       "      <td>0</td>\n",
       "      <td>0</td>\n",
       "      <td>0</td>\n",
       "      <td>0</td>\n",
       "      <td>0</td>\n",
       "      <td>0</td>\n",
       "      <td>0</td>\n",
       "      <td>0</td>\n",
       "      <td>0</td>\n",
       "      <td>...</td>\n",
       "      <td>0</td>\n",
       "      <td>0</td>\n",
       "      <td>0</td>\n",
       "      <td>0</td>\n",
       "      <td>0</td>\n",
       "      <td>0</td>\n",
       "      <td>0</td>\n",
       "      <td>0</td>\n",
       "      <td>0</td>\n",
       "      <td>0</td>\n",
       "    </tr>\n",
       "    <tr>\n",
       "      <td>3</td>\n",
       "      <td>0</td>\n",
       "      <td>0</td>\n",
       "      <td>0</td>\n",
       "      <td>0</td>\n",
       "      <td>0</td>\n",
       "      <td>0</td>\n",
       "      <td>0</td>\n",
       "      <td>0</td>\n",
       "      <td>0</td>\n",
       "      <td>0</td>\n",
       "      <td>...</td>\n",
       "      <td>0</td>\n",
       "      <td>0</td>\n",
       "      <td>0</td>\n",
       "      <td>0</td>\n",
       "      <td>0</td>\n",
       "      <td>0</td>\n",
       "      <td>0</td>\n",
       "      <td>0</td>\n",
       "      <td>0</td>\n",
       "      <td>0</td>\n",
       "    </tr>\n",
       "    <tr>\n",
       "      <td>4</td>\n",
       "      <td>0</td>\n",
       "      <td>0</td>\n",
       "      <td>0</td>\n",
       "      <td>0</td>\n",
       "      <td>0</td>\n",
       "      <td>0</td>\n",
       "      <td>0</td>\n",
       "      <td>0</td>\n",
       "      <td>0</td>\n",
       "      <td>0</td>\n",
       "      <td>...</td>\n",
       "      <td>0</td>\n",
       "      <td>0</td>\n",
       "      <td>0</td>\n",
       "      <td>0</td>\n",
       "      <td>0</td>\n",
       "      <td>0</td>\n",
       "      <td>0</td>\n",
       "      <td>0</td>\n",
       "      <td>0</td>\n",
       "      <td>0</td>\n",
       "    </tr>\n",
       "    <tr>\n",
       "      <td>5</td>\n",
       "      <td>0</td>\n",
       "      <td>0</td>\n",
       "      <td>0</td>\n",
       "      <td>0</td>\n",
       "      <td>0</td>\n",
       "      <td>0</td>\n",
       "      <td>0</td>\n",
       "      <td>0</td>\n",
       "      <td>0</td>\n",
       "      <td>0</td>\n",
       "      <td>...</td>\n",
       "      <td>0</td>\n",
       "      <td>0</td>\n",
       "      <td>0</td>\n",
       "      <td>0</td>\n",
       "      <td>0</td>\n",
       "      <td>0</td>\n",
       "      <td>0</td>\n",
       "      <td>0</td>\n",
       "      <td>0</td>\n",
       "      <td>0</td>\n",
       "    </tr>\n",
       "    <tr>\n",
       "      <td>6</td>\n",
       "      <td>0</td>\n",
       "      <td>0</td>\n",
       "      <td>0</td>\n",
       "      <td>0</td>\n",
       "      <td>0</td>\n",
       "      <td>0</td>\n",
       "      <td>0</td>\n",
       "      <td>0</td>\n",
       "      <td>0</td>\n",
       "      <td>0</td>\n",
       "      <td>...</td>\n",
       "      <td>0</td>\n",
       "      <td>0</td>\n",
       "      <td>0</td>\n",
       "      <td>0</td>\n",
       "      <td>0</td>\n",
       "      <td>0</td>\n",
       "      <td>0</td>\n",
       "      <td>0</td>\n",
       "      <td>0</td>\n",
       "      <td>0</td>\n",
       "    </tr>\n",
       "    <tr>\n",
       "      <td>7</td>\n",
       "      <td>0</td>\n",
       "      <td>0</td>\n",
       "      <td>0</td>\n",
       "      <td>0</td>\n",
       "      <td>0</td>\n",
       "      <td>0</td>\n",
       "      <td>0</td>\n",
       "      <td>0</td>\n",
       "      <td>0</td>\n",
       "      <td>0</td>\n",
       "      <td>...</td>\n",
       "      <td>0</td>\n",
       "      <td>0</td>\n",
       "      <td>0</td>\n",
       "      <td>0</td>\n",
       "      <td>0</td>\n",
       "      <td>0</td>\n",
       "      <td>0</td>\n",
       "      <td>0</td>\n",
       "      <td>0</td>\n",
       "      <td>0</td>\n",
       "    </tr>\n",
       "    <tr>\n",
       "      <td>8</td>\n",
       "      <td>0</td>\n",
       "      <td>0</td>\n",
       "      <td>0</td>\n",
       "      <td>0</td>\n",
       "      <td>0</td>\n",
       "      <td>0</td>\n",
       "      <td>0</td>\n",
       "      <td>0</td>\n",
       "      <td>0</td>\n",
       "      <td>0</td>\n",
       "      <td>...</td>\n",
       "      <td>0</td>\n",
       "      <td>0</td>\n",
       "      <td>0</td>\n",
       "      <td>0</td>\n",
       "      <td>0</td>\n",
       "      <td>0</td>\n",
       "      <td>0</td>\n",
       "      <td>0</td>\n",
       "      <td>0</td>\n",
       "      <td>0</td>\n",
       "    </tr>\n",
       "    <tr>\n",
       "      <td>9</td>\n",
       "      <td>0</td>\n",
       "      <td>0</td>\n",
       "      <td>0</td>\n",
       "      <td>0</td>\n",
       "      <td>0</td>\n",
       "      <td>0</td>\n",
       "      <td>0</td>\n",
       "      <td>0</td>\n",
       "      <td>0</td>\n",
       "      <td>0</td>\n",
       "      <td>...</td>\n",
       "      <td>0</td>\n",
       "      <td>0</td>\n",
       "      <td>0</td>\n",
       "      <td>0</td>\n",
       "      <td>0</td>\n",
       "      <td>0</td>\n",
       "      <td>0</td>\n",
       "      <td>0</td>\n",
       "      <td>0</td>\n",
       "      <td>0</td>\n",
       "    </tr>\n",
       "    <tr>\n",
       "      <td>10</td>\n",
       "      <td>0</td>\n",
       "      <td>0</td>\n",
       "      <td>0</td>\n",
       "      <td>0</td>\n",
       "      <td>0</td>\n",
       "      <td>0</td>\n",
       "      <td>0</td>\n",
       "      <td>0</td>\n",
       "      <td>0</td>\n",
       "      <td>0</td>\n",
       "      <td>...</td>\n",
       "      <td>0</td>\n",
       "      <td>0</td>\n",
       "      <td>0</td>\n",
       "      <td>0</td>\n",
       "      <td>0</td>\n",
       "      <td>0</td>\n",
       "      <td>0</td>\n",
       "      <td>0</td>\n",
       "      <td>0</td>\n",
       "      <td>0</td>\n",
       "    </tr>\n",
       "    <tr>\n",
       "      <td>11</td>\n",
       "      <td>0</td>\n",
       "      <td>0</td>\n",
       "      <td>0</td>\n",
       "      <td>0</td>\n",
       "      <td>0</td>\n",
       "      <td>0</td>\n",
       "      <td>0</td>\n",
       "      <td>0</td>\n",
       "      <td>0</td>\n",
       "      <td>0</td>\n",
       "      <td>...</td>\n",
       "      <td>0</td>\n",
       "      <td>0</td>\n",
       "      <td>0</td>\n",
       "      <td>0</td>\n",
       "      <td>0</td>\n",
       "      <td>0</td>\n",
       "      <td>0</td>\n",
       "      <td>0</td>\n",
       "      <td>0</td>\n",
       "      <td>0</td>\n",
       "    </tr>\n",
       "    <tr>\n",
       "      <td>12</td>\n",
       "      <td>0</td>\n",
       "      <td>0</td>\n",
       "      <td>0</td>\n",
       "      <td>0</td>\n",
       "      <td>0</td>\n",
       "      <td>0</td>\n",
       "      <td>0</td>\n",
       "      <td>0</td>\n",
       "      <td>0</td>\n",
       "      <td>0</td>\n",
       "      <td>...</td>\n",
       "      <td>0</td>\n",
       "      <td>0</td>\n",
       "      <td>0</td>\n",
       "      <td>0</td>\n",
       "      <td>0</td>\n",
       "      <td>0</td>\n",
       "      <td>0</td>\n",
       "      <td>0</td>\n",
       "      <td>0</td>\n",
       "      <td>0</td>\n",
       "    </tr>\n",
       "    <tr>\n",
       "      <td>13</td>\n",
       "      <td>0</td>\n",
       "      <td>0</td>\n",
       "      <td>0</td>\n",
       "      <td>0</td>\n",
       "      <td>0</td>\n",
       "      <td>0</td>\n",
       "      <td>0</td>\n",
       "      <td>0</td>\n",
       "      <td>0</td>\n",
       "      <td>0</td>\n",
       "      <td>...</td>\n",
       "      <td>0</td>\n",
       "      <td>0</td>\n",
       "      <td>0</td>\n",
       "      <td>0</td>\n",
       "      <td>0</td>\n",
       "      <td>0</td>\n",
       "      <td>0</td>\n",
       "      <td>0</td>\n",
       "      <td>0</td>\n",
       "      <td>0</td>\n",
       "    </tr>\n",
       "    <tr>\n",
       "      <td>14</td>\n",
       "      <td>0</td>\n",
       "      <td>0</td>\n",
       "      <td>0</td>\n",
       "      <td>0</td>\n",
       "      <td>0</td>\n",
       "      <td>0</td>\n",
       "      <td>0</td>\n",
       "      <td>0</td>\n",
       "      <td>0</td>\n",
       "      <td>0</td>\n",
       "      <td>...</td>\n",
       "      <td>0</td>\n",
       "      <td>0</td>\n",
       "      <td>0</td>\n",
       "      <td>0</td>\n",
       "      <td>0</td>\n",
       "      <td>0</td>\n",
       "      <td>0</td>\n",
       "      <td>0</td>\n",
       "      <td>0</td>\n",
       "      <td>0</td>\n",
       "    </tr>\n",
       "    <tr>\n",
       "      <td>15</td>\n",
       "      <td>0</td>\n",
       "      <td>0</td>\n",
       "      <td>0</td>\n",
       "      <td>0</td>\n",
       "      <td>0</td>\n",
       "      <td>0</td>\n",
       "      <td>0</td>\n",
       "      <td>0</td>\n",
       "      <td>0</td>\n",
       "      <td>0</td>\n",
       "      <td>...</td>\n",
       "      <td>0</td>\n",
       "      <td>0</td>\n",
       "      <td>0</td>\n",
       "      <td>0</td>\n",
       "      <td>0</td>\n",
       "      <td>0</td>\n",
       "      <td>0</td>\n",
       "      <td>0</td>\n",
       "      <td>0</td>\n",
       "      <td>0</td>\n",
       "    </tr>\n",
       "    <tr>\n",
       "      <td>16</td>\n",
       "      <td>0</td>\n",
       "      <td>0</td>\n",
       "      <td>0</td>\n",
       "      <td>0</td>\n",
       "      <td>0</td>\n",
       "      <td>0</td>\n",
       "      <td>0</td>\n",
       "      <td>0</td>\n",
       "      <td>0</td>\n",
       "      <td>0</td>\n",
       "      <td>...</td>\n",
       "      <td>0</td>\n",
       "      <td>0</td>\n",
       "      <td>0</td>\n",
       "      <td>0</td>\n",
       "      <td>0</td>\n",
       "      <td>0</td>\n",
       "      <td>0</td>\n",
       "      <td>0</td>\n",
       "      <td>0</td>\n",
       "      <td>0</td>\n",
       "    </tr>\n",
       "    <tr>\n",
       "      <td>17</td>\n",
       "      <td>0</td>\n",
       "      <td>0</td>\n",
       "      <td>0</td>\n",
       "      <td>0</td>\n",
       "      <td>0</td>\n",
       "      <td>0</td>\n",
       "      <td>0</td>\n",
       "      <td>0</td>\n",
       "      <td>0</td>\n",
       "      <td>0</td>\n",
       "      <td>...</td>\n",
       "      <td>0</td>\n",
       "      <td>0</td>\n",
       "      <td>0</td>\n",
       "      <td>0</td>\n",
       "      <td>0</td>\n",
       "      <td>0</td>\n",
       "      <td>0</td>\n",
       "      <td>0</td>\n",
       "      <td>0</td>\n",
       "      <td>0</td>\n",
       "    </tr>\n",
       "    <tr>\n",
       "      <td>18</td>\n",
       "      <td>0</td>\n",
       "      <td>0</td>\n",
       "      <td>0</td>\n",
       "      <td>0</td>\n",
       "      <td>0</td>\n",
       "      <td>0</td>\n",
       "      <td>0</td>\n",
       "      <td>1</td>\n",
       "      <td>0</td>\n",
       "      <td>0</td>\n",
       "      <td>...</td>\n",
       "      <td>0</td>\n",
       "      <td>0</td>\n",
       "      <td>0</td>\n",
       "      <td>0</td>\n",
       "      <td>0</td>\n",
       "      <td>0</td>\n",
       "      <td>0</td>\n",
       "      <td>0</td>\n",
       "      <td>0</td>\n",
       "      <td>0</td>\n",
       "    </tr>\n",
       "    <tr>\n",
       "      <td>19</td>\n",
       "      <td>0</td>\n",
       "      <td>0</td>\n",
       "      <td>0</td>\n",
       "      <td>0</td>\n",
       "      <td>0</td>\n",
       "      <td>0</td>\n",
       "      <td>0</td>\n",
       "      <td>0</td>\n",
       "      <td>0</td>\n",
       "      <td>0</td>\n",
       "      <td>...</td>\n",
       "      <td>0</td>\n",
       "      <td>0</td>\n",
       "      <td>0</td>\n",
       "      <td>0</td>\n",
       "      <td>0</td>\n",
       "      <td>0</td>\n",
       "      <td>0</td>\n",
       "      <td>0</td>\n",
       "      <td>0</td>\n",
       "      <td>0</td>\n",
       "    </tr>\n",
       "  </tbody>\n",
       "</table>\n",
       "<p>20 rows × 50 columns</p>\n",
       "</div>"
      ],
      "text/plain": [
       "    callaghan  callam  called  calleri  callers  calling  callow  calls  calm  \\\n",
       "0           0       0       1        0        0        0       0      0     0   \n",
       "1           0       0       0        0        0        0       0      0     0   \n",
       "2           0       0       0        0        0        0       0      0     0   \n",
       "3           0       0       0        0        0        0       0      0     0   \n",
       "4           0       0       0        0        0        0       0      0     0   \n",
       "5           0       0       0        0        0        0       0      0     0   \n",
       "6           0       0       0        0        0        0       0      0     0   \n",
       "7           0       0       0        0        0        0       0      0     0   \n",
       "8           0       0       0        0        0        0       0      0     0   \n",
       "9           0       0       0        0        0        0       0      0     0   \n",
       "10          0       0       0        0        0        0       0      0     0   \n",
       "11          0       0       0        0        0        0       0      0     0   \n",
       "12          0       0       0        0        0        0       0      0     0   \n",
       "13          0       0       0        0        0        0       0      0     0   \n",
       "14          0       0       0        0        0        0       0      0     0   \n",
       "15          0       0       0        0        0        0       0      0     0   \n",
       "16          0       0       0        0        0        0       0      0     0   \n",
       "17          0       0       0        0        0        0       0      0     0   \n",
       "18          0       0       0        0        0        0       0      1     0   \n",
       "19          0       0       0        0        0        0       0      0     0   \n",
       "\n",
       "    calmed  ...  camp  campaiging  campaign  campaigned  campaigner  \\\n",
       "0        0  ...     0           0         0           0           0   \n",
       "1        0  ...     0           0         0           0           0   \n",
       "2        0  ...     0           0         0           0           0   \n",
       "3        0  ...     0           0         0           0           0   \n",
       "4        0  ...     0           0         0           0           0   \n",
       "5        0  ...     0           0         0           0           0   \n",
       "6        0  ...     0           0         0           0           0   \n",
       "7        0  ...     0           0         0           0           0   \n",
       "8        0  ...     0           0         0           0           0   \n",
       "9        0  ...     0           0         0           0           0   \n",
       "10       0  ...     0           0         0           0           0   \n",
       "11       0  ...     0           0         0           0           0   \n",
       "12       0  ...     0           0         0           0           0   \n",
       "13       0  ...     0           0         0           0           0   \n",
       "14       0  ...     0           0         0           0           0   \n",
       "15       0  ...     0           0         0           0           0   \n",
       "16       0  ...     0           0         0           0           0   \n",
       "17       0  ...     0           0         0           0           0   \n",
       "18       0  ...     0           0         0           0           0   \n",
       "19       0  ...     0           0         0           0           0   \n",
       "\n",
       "    campaigners  campaigning  campaigns  campbell  camped  \n",
       "0             0            0          0         0       0  \n",
       "1             0            0          0         0       0  \n",
       "2             0            0          0         0       0  \n",
       "3             0            0          0         0       0  \n",
       "4             0            0          0         0       0  \n",
       "5             0            0          0         0       0  \n",
       "6             0            0          0         0       0  \n",
       "7             0            0          0         0       0  \n",
       "8             0            0          0         0       0  \n",
       "9             0            0          0         0       0  \n",
       "10            0            0          0         0       0  \n",
       "11            0            0          0         0       0  \n",
       "12            0            0          0         0       0  \n",
       "13            0            0          0         0       0  \n",
       "14            0            0          0         0       0  \n",
       "15            0            0          0         0       0  \n",
       "16            0            0          0         0       0  \n",
       "17            0            0          0         0       0  \n",
       "18            0            0          0         0       0  \n",
       "19            0            0          0         0       0  \n",
       "\n",
       "[20 rows x 50 columns]"
      ]
     },
     "execution_count": 36,
     "metadata": {},
     "output_type": "execute_result"
    }
   ],
   "source": [
    "#let us visualise dtm (document term matrix)\n",
    "dtm_view=pd.SparseDataFrame(dtm,columns=cvec.get_feature_names(),default_fill_value=0)\n",
    "dtm_view.iloc[:20, 5000:5050]"
   ]
  },
  {
   "cell_type": "code",
   "execution_count": 50,
   "metadata": {
    "scrolled": true
   },
   "outputs": [
    {
     "data": {
      "text/plain": [
       "(1780, 29126)"
      ]
     },
     "execution_count": 50,
     "metadata": {},
     "output_type": "execute_result"
    }
   ],
   "source": [
    "#now that we have got the document term matrix...let's build a machine learning model\n",
    "#as the dataset is really sparse..naive bayes works perfectly..let's use multinomial navive bayes\n",
    "\n",
    "#splitting the data into train and test datasets\n",
    "\n",
    "from sklearn.model_selection import train_test_split\n",
    "from sklearn.naive_bayes import MultinomialNB\n",
    "\n",
    "#let's create a function, that takes dataset and dependent as inputs and outputs, test data and model\n",
    "\n",
    "x_train,x_test,y_train,y_test=train_test_split(dtm,bbc.label,test_size=0.2,random_state=100) #random_state is 'seed'\n",
    "\n",
    "x_test.shape\n",
    "x_train.shape"
   ]
  },
  {
   "cell_type": "code",
   "execution_count": 94,
   "metadata": {},
   "outputs": [],
   "source": [
    "def build_model(data,y_label):\n",
    "    x_train,x_test,y_train,y_test=train_test_split(data,bbc.label,test_size=0.2,random_state=100) #random_state is 'seed'\n",
    "    model=MultinomialNB()\n",
    "    model=model.fit(x_train,y_train)\n",
    "    return model,x_test,y_test\n",
    "\n"
   ]
  },
  {
   "cell_type": "code",
   "execution_count": 95,
   "metadata": {},
   "outputs": [
    {
     "data": {
      "text/plain": [
       "0.9640449438202248"
      ]
     },
     "execution_count": 95,
     "metadata": {},
     "output_type": "execute_result"
    }
   ],
   "source": [
    "model_dtm,x_dtmtest,y_dtmtest=build_model(dtm,bbc.label)\n",
    "\n",
    "from sklearn.metrics import accuracy_score\n",
    "pred=model_dtm.predict(x_dtmtest)\n",
    "accuracy_score(y_dtmtest,pred)#accuracy(y_actual,y_predicted)"
   ]
  },
  {
   "cell_type": "markdown",
   "metadata": {},
   "source": [
    "The above model has given an accuracy of 96%..let's try with tf-idf matrix"
   ]
  },
  {
   "cell_type": "code",
   "execution_count": 116,
   "metadata": {},
   "outputs": [
    {
     "name": "stdout",
     "output_type": "stream",
     "text": [
      "dimmensions of tfidf_bbc: (2225, 2000)\n"
     ]
    }
   ],
   "source": [
    "from sklearn.feature_extraction.text import TfidfVectorizer\n",
    "\n",
    "tfidf=TfidfVectorizer(max_features=2000,stop_words='english')#taking top 4000 words, ordered by term_freq response\n",
    "bbc_tfidf=tfidf.fit_transform(bbc.text)\n",
    "\n",
    "print('dimmensions of tfidf_bbc:',bbc_tfidf.shape)\n"
   ]
  },
  {
   "cell_type": "markdown",
   "metadata": {},
   "source": [
    "Now lets build the model with tf-idf matrix"
   ]
  },
  {
   "cell_type": "markdown",
   "metadata": {},
   "source": [
    "tried different values of max features from 4000 to 2000, for 2000 features we are getting an \n",
    "accuracy of 95.2% which is good"
   ]
  },
  {
   "cell_type": "code",
   "execution_count": 117,
   "metadata": {},
   "outputs": [
    {
     "data": {
      "text/plain": [
       "0.952808988764045"
      ]
     },
     "execution_count": 117,
     "metadata": {},
     "output_type": "execute_result"
    }
   ],
   "source": [
    "model_tfidf,x_tfidftest,y_tfidftest=build_model(bbc_tfidf,bbc.label)\n",
    "\n",
    "pred_tfidf=model_tfidf.predict(x_tfidftest)\n",
    "accuracy_score(y_tfidftest,pred_tfidf)"
   ]
  },
  {
   "cell_type": "markdown",
   "metadata": {},
   "source": [
    "tf-idf technique has achieved the same accuracy of 96% with just 4000 features when compared to document term matrix which uses \n",
    "29,125 features and achieved 96% accuracy\n"
   ]
  },
  {
   "cell_type": "markdown",
   "metadata": {},
   "source": [
    "\n",
    "\n",
    "there was no lemmatization used at all...let's lemmatize the text using SpaCy package"
   ]
  },
  {
   "cell_type": "code",
   "execution_count": 78,
   "metadata": {},
   "outputs": [
    {
     "data": {
      "text/plain": [
       "[Egypt, to, sell, off, state, -, owned, bank, \n",
       " , The, Egyptian, government, is, reportedly, planning, to, privatise, one, of, the, country, 's, big, public, banks, ., \n",
       " , An, Investment, Ministry, official, has, told, the, Reuters, news, agency, that, the, Bank, of, Alexandria, will, be, sold, sometime, in, 2005, ., The, move, is, seen, as, evidence, of, a, new, commitment, by, the, government, to, reduce, the, size, of, public, sector, ., The, official, said, the, government, has, not, yet, decided, whether, the, sale, will, take, the, form, of, a, public, flotation, ., \", The, most, important, thing, to, decide, now, is, the, method, -, whether, by, selling, shares, to, the, public, or, to, a, strategic, investor, from, abroad, ,, \", he, said, ., \n",
       " , Analysts, say, the, public, -, sector, banks, have, suited, the, government, 's, monetary, ,, credit, and, exchange, policies, ., Nevertheless, ,, the, Egyptian, government, has, spoken, for, years, about, privatising, one, of, the, big, four, state, banks, -, Banque, Misr, ,, National, Bank, of, Egypt, ,, Banque, du, Caire, and, Bank, of, Alexandria, ., It, had, been, expected, one, of, the, smallest, of, the, four, big, public, banks, -, Bank, of, Alexandria, or, Banque, du, Caire, -, would, be, sold, first, ., The, announcement, reinforces, the, hopes, of, investors, and, international, financial, bodies, for, a, revival, of, Egypt, 's, privatisation, programme, ., About, 190, state, -, run, companies, and, facilities, were, sold, off, from, the, early, 1990s, to, 1997, ., The, appointment, of, Mahmoud, Mohieldin, ,, a, reform, -, minded, technocrat, ,, to, the, new, post, of, investment, minister, in, July, was, taken, as, a, sign, that, more, sell, -, offs, were, on, the, way, ., Both, the, IMF, and, World, Bank, have, urged, Egypt, to, remove, obstacles, to, the, development, of, the, private, sector, which, they, say, has, a, vital, role, to, play, in, reducing, poverty, by, expanding, the, economy, ., ]"
      ]
     },
     "execution_count": 78,
     "metadata": {},
     "output_type": "execute_result"
    }
   ],
   "source": [
    "import spacy\n",
    "nlp=spacy.load('en_core_web_sm')\n",
    "list(nlp(bbc.text[1]))"
   ]
  },
  {
   "cell_type": "code",
   "execution_count": 83,
   "metadata": {},
   "outputs": [
    {
     "data": {
      "text/plain": [
       "'egypt sell state own bank  egyptian government reportedly plan privatise country big public bank  investment ministry official tell reuters news agency bank alexandria sell 2005 see evidence new commitment government reduce size public sector official say government decide sale form public flotation important thing decide method sell share public strategic investor abroad say  analyst public sector bank suit government monetary credit exchange policy egyptian government speak year privatise big state bank banque misr national bank egypt banque du caire bank alexandria expect small big public bank bank alexandria banque du caire sell announcement reinforce hope investor international financial body revival egypt privatisation programme 190 state run company facility sell early 1990s 1997 appointment mahmoud mohieldin reform minded technocrat new post investment minister july take sign sell off way imf world bank urge egypt remove obstacle development private sector vital role play reduce poverty expand economy '"
      ]
     },
     "execution_count": 83,
     "metadata": {},
     "output_type": "execute_result"
    }
   ],
   "source": [
    "import re\n",
    "def text_clean(txt):\n",
    "    tok=nlp(txt)\n",
    "    tok=[t for t in tok if(t.is_punct==False)]\n",
    "    tok=[t for t in tok if(t.is_stop==False)]\n",
    "    tok=[t.lemma_ for t in tok]\n",
    "    tok_clean=' '.join(tok)\n",
    "    tok_clean=re.sub('\\n','',tok_clean)\n",
    "    tok_clean=tok_clean.lower()\n",
    "    return tok_clean\n",
    "samp=text_clean(bbc.text[1])\n",
    "samp"
   ]
  },
  {
   "cell_type": "code",
   "execution_count": 86,
   "metadata": {},
   "outputs": [],
   "source": [
    "#the above function removes punctuations, stop words, unwanted text (\\n) and lemmatises followed by converting all \n",
    "#text to lower case\n",
    "# this process ahs to be repeated on every article\n",
    "bbc.text=bbc.text.apply(text_clean)\n"
   ]
  },
  {
   "cell_type": "code",
   "execution_count": 87,
   "metadata": {},
   "outputs": [
    {
     "data": {
      "text/plain": [
       "'egypt sell state own bank  egyptian government reportedly plan privatise country big public bank  investment ministry official tell reuters news agency bank alexandria sell 2005 see evidence new commitment government reduce size public sector official say government decide sale form public flotation important thing decide method sell share public strategic investor abroad say  analyst public sector bank suit government monetary credit exchange policy egyptian government speak year privatise big state bank banque misr national bank egypt banque du caire bank alexandria expect small big public bank bank alexandria banque du caire sell announcement reinforce hope investor international financial body revival egypt privatisation programme 190 state run company facility sell early 1990s 1997 appointment mahmoud mohieldin reform minded technocrat new post investment minister july take sign sell off way imf world bank urge egypt remove obstacle development private sector vital role play reduce poverty expand economy '"
      ]
     },
     "execution_count": 87,
     "metadata": {},
     "output_type": "execute_result"
    }
   ],
   "source": [
    "bbc.text[1] #just to make sure that text cleaning has taken place.."
   ]
  },
  {
   "cell_type": "markdown",
   "metadata": {},
   "source": [
    "let us build the count vectors and tf-idf matrices on cleaned and lemmatized text"
   ]
  },
  {
   "cell_type": "code",
   "execution_count": 98,
   "metadata": {},
   "outputs": [
    {
     "name": "stdout",
     "output_type": "stream",
     "text": [
      "dimm of cleaned text: (2225, 23963)\n"
     ]
    }
   ],
   "source": [
    "cvec=CountVectorizer() #building an object\n",
    "dtm_clean=cvec.fit_transform(bbc.text)\n",
    "print(\"dimm of cleaned text:\",dtm_clean.shape)\n",
    "\n",
    "\n",
    "# from sklearn.feature_extraction.text import CountVectorizer\n",
    "# #build document term matrix (count vectors)\n",
    "# cvec=CountVectorizer(stop_words='english')\n",
    "# dtm=cvec.fit_transform(bbc.text)\n",
    "# print('type of document term matrix:',type(dtm))\n",
    "# print('shape of document term matrix:',dtm.shape)\n",
    "# print('number of words(features):',len(cvec.vocabulary_))\n",
    "# print('---------------------------')\n",
    "# print(cvec.get_feature_names()[5000:5050])"
   ]
  },
  {
   "cell_type": "markdown",
   "metadata": {},
   "source": [
    "before text cleaning, we had 29,125 words (features), now we have only 23,963 i.e. nearly we removed 6000 redundant words "
   ]
  },
  {
   "cell_type": "code",
   "execution_count": 99,
   "metadata": {},
   "outputs": [
    {
     "name": "stdout",
     "output_type": "stream",
     "text": [
      "dimm of test data: (445, 23963)\n"
     ]
    },
    {
     "data": {
      "text/plain": [
       "0.9640449438202248"
      ]
     },
     "execution_count": 99,
     "metadata": {},
     "output_type": "execute_result"
    }
   ],
   "source": [
    "#let's run the model\n",
    "\n",
    "model_dtm_clean,x_test_dtm_clean,y_test_dtm_clean=build_model(dtm_clean,bbc.label)\n",
    "print('dimm of test data:',x_test_dtm_clean.shape)\n",
    "pred_dtm_clean=model_dtm_clean.predict(x_test_dtm_clean)\n",
    "accuracy_score(y_test_dtm_clean,pred_dtm_clean)"
   ]
  },
  {
   "cell_type": "code",
   "execution_count": 112,
   "metadata": {},
   "outputs": [
    {
     "name": "stdout",
     "output_type": "stream",
     "text": [
      "dimmensions of tfidf_bbc: (2225, 1500)\n"
     ]
    }
   ],
   "source": [
    "#let's build model on tf-idf matrix\n",
    "\n",
    "tfidf_clean=TfidfVectorizer(max_features=1500)#tried different values from 4000-1500..\n",
    "\n",
    "bbc_tfidf_clean=tfidf_clean.fit_transform(bbc.text)\n",
    "\n",
    "print('dimmensions of tfidf_bbc:',bbc_tfidf_clean.shape)"
   ]
  },
  {
   "cell_type": "code",
   "execution_count": 113,
   "metadata": {},
   "outputs": [
    {
     "data": {
      "text/plain": [
       "0.952808988764045"
      ]
     },
     "execution_count": 113,
     "metadata": {},
     "output_type": "execute_result"
    }
   ],
   "source": [
    "model_idf_clean,x_test_idf_clean,y_test_idf_clean=build_model(bbc_tfidf_clean,bbc.label)\n",
    "pred_idf_clean=model_idf_clean.predict(x_test_idf_clean)\n",
    "accuracy_score(y_test_idf_clean,pred_idf_clean)"
   ]
  },
  {
   "cell_type": "markdown",
   "metadata": {},
   "source": [
    "for uncleaned text the same accuracy of 95.2% has been achieved using 2000 features,\n",
    "however, the same accuracy of 95.2% is achieved on cleaned text with 1500 features only"
   ]
  },
  {
   "cell_type": "code",
   "execution_count": 136,
   "metadata": {},
   "outputs": [
    {
     "name": "stdout",
     "output_type": "stream",
     "text": [
      "[[0.         0.         0.         0.         0.         0.\n",
      "  0.         0.         0.         0.        ]\n",
      " [0.         0.         0.         0.         0.         0.\n",
      "  0.         0.         0.         0.        ]\n",
      " [0.         0.         0.06405972 0.         0.         0.\n",
      "  0.         0.         0.         0.        ]\n",
      " [0.         0.         0.         0.         0.         0.\n",
      "  0.         0.         0.         0.        ]\n",
      " [0.         0.         0.12598791 0.         0.         0.\n",
      "  0.         0.06920419 0.         0.        ]\n",
      " [0.23608891 0.02619029 0.03536408 0.         0.03501261 0.08354643\n",
      "  0.         0.         0.05089062 0.        ]\n",
      " [0.         0.         0.         0.         0.         0.\n",
      "  0.         0.         0.         0.        ]\n",
      " [0.         0.         0.05195096 0.         0.         0.\n",
      "  0.         0.11414506 0.         0.05382547]\n",
      " [0.         0.         0.03516743 0.         0.         0.\n",
      "  0.         0.         0.         0.        ]\n",
      " [0.         0.         0.         0.         0.         0.\n",
      "  0.         0.         0.         0.        ]]\n"
     ]
    }
   ],
   "source": [
    "#do some plotting using t-sne..cluster analysis\n",
    "features = bbc_tfidf_clean.toarray()\n",
    "print(features[:10,800:810])\n",
    "labels = bbc.label"
   ]
  },
  {
   "cell_type": "code",
   "execution_count": 158,
   "metadata": {},
   "outputs": [
    {
     "name": "stdout",
     "output_type": "stream",
     "text": [
      "sample size for tsne:  667\n",
      "[[ 19.562407  -10.839514 ]\n",
      " [ 27.453062   -5.8239026]\n",
      " [-20.362072   26.802536 ]\n",
      " ...\n",
      " [-13.096706   25.457632 ]\n",
      " [ 16.045675   32.163357 ]\n",
      " [ -5.167069  -17.849312 ]]\n"
     ]
    }
   ],
   "source": [
    "#as t_sne is computationally intensive..lets randomly pick 25% of the samples and boil them down to\n",
    "# two dimmensions\n",
    "import numpy as np\n",
    "from sklearn.manifold import TSNE\n",
    "np.random.seed(100)\n",
    "samp=int(len(features)*0.3)\n",
    "ind=np.random.choice(range(len(features)),samp,replace=False)\n",
    "print('sample size for tsne: ',samp)\n",
    "tsne_proj=TSNE(n_components=2,random_state=100).fit_transform(features[ind])\n",
    "print(tsne_proj)\n"
   ]
  },
  {
   "cell_type": "code",
   "execution_count": 160,
   "metadata": {},
   "outputs": [
    {
     "data": {
      "text/plain": [
       "<matplotlib.legend.Legend at 0x1776c166588>"
      ]
     },
     "execution_count": 160,
     "metadata": {},
     "output_type": "execute_result"
    },
    {
     "data": {
      "image/png": "[encoded data removed]",
      "text/plain": [
       "<Figure size 864x576 with 1 Axes>"
      ]
     },
     "metadata": {
      "needs_background": "light"
     },
     "output_type": "display_data"
    }
   ],
   "source": [
    "import matplotlib.pyplot as plt\n",
    "# colors = ['pink', 'green', 'midnightblue', 'orange', 'darkgrey']\n",
    "\n",
    "class_label = {'business':0, 'entertainment':1, 'politics':2, 'sport':3, 'tech':4}#from label encoder at the begining\n",
    "\n",
    "# for i,j in class_label.items:\n",
    "#     print(i,j)\n",
    "plt.figure(figsize=(12,8))\n",
    "# Find points belonging to each category and plot them\n",
    "for cls,clsid in sorted(class_label.items()):\n",
    "    scat_points=tsne_proj[(labels[ind]==clsid).values]\n",
    "    plt.scatter(scat_points[:,0],scat_points[:,1],s=30,label=cls)\n",
    "    \n",
    "plt.title(\"tfidf-features-tsne(2 dimmensions)\")    \n",
    "plt.legend()\n",
    "\n"
   ]
  }
 ],
 "metadata": {
  "kernelspec": {
   "display_name": "Python 3",
   "language": "python",
   "name": "python3"
  },
  "language_info": {
   "codemirror_mode": {
    "name": "ipython",
    "version": 3
   },
   "file_extension": ".py",
   "mimetype": "text/x-python",
   "name": "python",
   "nbconvert_exporter": "python",
   "pygments_lexer": "ipython3",
   "version": "3.7.3"
  }
 },
 "nbformat": 4,
 "nbformat_minor": 2
}
